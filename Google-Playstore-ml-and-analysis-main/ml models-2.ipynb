{
 "cells": [
  {
   "cell_type": "code",
   "execution_count": 262,
   "id": "85eafb5a",
   "metadata": {},
   "outputs": [],
   "source": [
    "import numpy as np\n",
    "import pandas as pd\n",
    "\n",
    "import seaborn as sns\n",
    "import matplotlib.pyplot as plt\n",
    "\n",
    "from sklearn.linear_model import LinearRegression\n",
    "from sklearn import preprocessing\n",
    "from sklearn.tree import DecisionTreeRegressor\n",
    "from sklearn.neighbors import KNeighborsRegressor\n",
    "from sklearn.ensemble import RandomForestRegressor\n",
    "from sklearn.model_selection import train_test_split"
   ]
  },
  {
   "cell_type": "code",
   "execution_count": 263,
   "id": "755e7b49",
   "metadata": {},
   "outputs": [],
   "source": [
    "df=pd.read_csv('/Users/chiranthdg/Downloads/archive-4/googleplaystoredata.csv')"
   ]
  },
  {
   "cell_type": "code",
   "execution_count": 264,
   "id": "f243592f",
   "metadata": {},
   "outputs": [
    {
     "data": {
      "text/html": [
       "<div>\n",
       "<style scoped>\n",
       "    .dataframe tbody tr th:only-of-type {\n",
       "        vertical-align: middle;\n",
       "    }\n",
       "\n",
       "    .dataframe tbody tr th {\n",
       "        vertical-align: top;\n",
       "    }\n",
       "\n",
       "    .dataframe thead th {\n",
       "        text-align: right;\n",
       "    }\n",
       "</style>\n",
       "<table border=\"1\" class=\"dataframe\">\n",
       "  <thead>\n",
       "    <tr style=\"text-align: right;\">\n",
       "      <th></th>\n",
       "      <th>App</th>\n",
       "      <th>Category</th>\n",
       "      <th>Rating</th>\n",
       "      <th>Reviews</th>\n",
       "      <th>Size</th>\n",
       "      <th>Installs</th>\n",
       "      <th>Type</th>\n",
       "      <th>Price</th>\n",
       "      <th>Content Rating</th>\n",
       "      <th>Genres</th>\n",
       "      <th>Last Updated</th>\n",
       "      <th>Current Ver</th>\n",
       "      <th>Android Ver</th>\n",
       "    </tr>\n",
       "  </thead>\n",
       "  <tbody>\n",
       "    <tr>\n",
       "      <th>0</th>\n",
       "      <td>Photo Editor &amp; Candy Camera &amp; Grid &amp; ScrapBook</td>\n",
       "      <td>ART_AND_DESIGN</td>\n",
       "      <td>4.1</td>\n",
       "      <td>159</td>\n",
       "      <td>19M</td>\n",
       "      <td>10,000+</td>\n",
       "      <td>Free</td>\n",
       "      <td>0</td>\n",
       "      <td>Everyone</td>\n",
       "      <td>Art &amp; Design</td>\n",
       "      <td>January 7, 2018</td>\n",
       "      <td>1.0.0</td>\n",
       "      <td>4.0.3 and up</td>\n",
       "    </tr>\n",
       "    <tr>\n",
       "      <th>1</th>\n",
       "      <td>Coloring book moana</td>\n",
       "      <td>ART_AND_DESIGN</td>\n",
       "      <td>3.9</td>\n",
       "      <td>967</td>\n",
       "      <td>14M</td>\n",
       "      <td>500,000+</td>\n",
       "      <td>Free</td>\n",
       "      <td>0</td>\n",
       "      <td>Everyone</td>\n",
       "      <td>Art &amp; Design;Pretend Play</td>\n",
       "      <td>January 15, 2018</td>\n",
       "      <td>2.0.0</td>\n",
       "      <td>4.0.3 and up</td>\n",
       "    </tr>\n",
       "    <tr>\n",
       "      <th>2</th>\n",
       "      <td>U Launcher Lite – FREE Live Cool Themes, Hide ...</td>\n",
       "      <td>ART_AND_DESIGN</td>\n",
       "      <td>4.7</td>\n",
       "      <td>87510</td>\n",
       "      <td>8.7M</td>\n",
       "      <td>5,000,000+</td>\n",
       "      <td>Free</td>\n",
       "      <td>0</td>\n",
       "      <td>Everyone</td>\n",
       "      <td>Art &amp; Design</td>\n",
       "      <td>August 1, 2018</td>\n",
       "      <td>1.2.4</td>\n",
       "      <td>4.0.3 and up</td>\n",
       "    </tr>\n",
       "    <tr>\n",
       "      <th>3</th>\n",
       "      <td>Sketch - Draw &amp; Paint</td>\n",
       "      <td>ART_AND_DESIGN</td>\n",
       "      <td>4.5</td>\n",
       "      <td>215644</td>\n",
       "      <td>25M</td>\n",
       "      <td>50,000,000+</td>\n",
       "      <td>Free</td>\n",
       "      <td>0</td>\n",
       "      <td>Teen</td>\n",
       "      <td>Art &amp; Design</td>\n",
       "      <td>June 8, 2018</td>\n",
       "      <td>Varies with device</td>\n",
       "      <td>4.2 and up</td>\n",
       "    </tr>\n",
       "    <tr>\n",
       "      <th>4</th>\n",
       "      <td>Pixel Draw - Number Art Coloring Book</td>\n",
       "      <td>ART_AND_DESIGN</td>\n",
       "      <td>4.3</td>\n",
       "      <td>967</td>\n",
       "      <td>2.8M</td>\n",
       "      <td>100,000+</td>\n",
       "      <td>Free</td>\n",
       "      <td>0</td>\n",
       "      <td>Everyone</td>\n",
       "      <td>Art &amp; Design;Creativity</td>\n",
       "      <td>June 20, 2018</td>\n",
       "      <td>1.1</td>\n",
       "      <td>4.4 and up</td>\n",
       "    </tr>\n",
       "  </tbody>\n",
       "</table>\n",
       "</div>"
      ],
      "text/plain": [
       "                                                 App        Category  Rating  \\\n",
       "0     Photo Editor & Candy Camera & Grid & ScrapBook  ART_AND_DESIGN     4.1   \n",
       "1                                Coloring book moana  ART_AND_DESIGN     3.9   \n",
       "2  U Launcher Lite – FREE Live Cool Themes, Hide ...  ART_AND_DESIGN     4.7   \n",
       "3                              Sketch - Draw & Paint  ART_AND_DESIGN     4.5   \n",
       "4              Pixel Draw - Number Art Coloring Book  ART_AND_DESIGN     4.3   \n",
       "\n",
       "  Reviews  Size     Installs  Type Price Content Rating  \\\n",
       "0     159   19M      10,000+  Free     0       Everyone   \n",
       "1     967   14M     500,000+  Free     0       Everyone   \n",
       "2   87510  8.7M   5,000,000+  Free     0       Everyone   \n",
       "3  215644   25M  50,000,000+  Free     0           Teen   \n",
       "4     967  2.8M     100,000+  Free     0       Everyone   \n",
       "\n",
       "                      Genres      Last Updated         Current Ver  \\\n",
       "0               Art & Design   January 7, 2018               1.0.0   \n",
       "1  Art & Design;Pretend Play  January 15, 2018               2.0.0   \n",
       "2               Art & Design    August 1, 2018               1.2.4   \n",
       "3               Art & Design      June 8, 2018  Varies with device   \n",
       "4    Art & Design;Creativity     June 20, 2018                 1.1   \n",
       "\n",
       "    Android Ver  \n",
       "0  4.0.3 and up  \n",
       "1  4.0.3 and up  \n",
       "2  4.0.3 and up  \n",
       "3    4.2 and up  \n",
       "4    4.4 and up  "
      ]
     },
     "execution_count": 264,
     "metadata": {},
     "output_type": "execute_result"
    }
   ],
   "source": [
    "df.head()"
   ]
  },
  {
   "cell_type": "code",
   "execution_count": 265,
   "id": "adc44f24",
   "metadata": {},
   "outputs": [
    {
     "name": "stdout",
     "output_type": "stream",
     "text": [
      "<class 'pandas.core.frame.DataFrame'>\n",
      "RangeIndex: 10841 entries, 0 to 10840\n",
      "Data columns (total 13 columns):\n",
      " #   Column          Non-Null Count  Dtype  \n",
      "---  ------          --------------  -----  \n",
      " 0   App             10841 non-null  object \n",
      " 1   Category        10841 non-null  object \n",
      " 2   Rating          9367 non-null   float64\n",
      " 3   Reviews         10841 non-null  object \n",
      " 4   Size            10841 non-null  object \n",
      " 5   Installs        10841 non-null  object \n",
      " 6   Type            10840 non-null  object \n",
      " 7   Price           10841 non-null  object \n",
      " 8   Content Rating  10840 non-null  object \n",
      " 9   Genres          10841 non-null  object \n",
      " 10  Last Updated    10841 non-null  object \n",
      " 11  Current Ver     10833 non-null  object \n",
      " 12  Android Ver     10838 non-null  object \n",
      "dtypes: float64(1), object(12)\n",
      "memory usage: 1.1+ MB\n"
     ]
    }
   ],
   "source": [
    "df.info()"
   ]
  },
  {
   "cell_type": "code",
   "execution_count": 266,
   "id": "a3633f19",
   "metadata": {},
   "outputs": [
    {
     "data": {
      "text/plain": [
       "App                  0\n",
       "Category             0\n",
       "Rating            1474\n",
       "Reviews              0\n",
       "Size                 0\n",
       "Installs             0\n",
       "Type                 1\n",
       "Price                0\n",
       "Content Rating       1\n",
       "Genres               0\n",
       "Last Updated         0\n",
       "Current Ver          8\n",
       "Android Ver          3\n",
       "dtype: int64"
      ]
     },
     "execution_count": 266,
     "metadata": {},
     "output_type": "execute_result"
    }
   ],
   "source": [
    "df.isnull().sum()"
   ]
  },
  {
   "cell_type": "code",
   "execution_count": 267,
   "id": "ac613a29",
   "metadata": {},
   "outputs": [],
   "source": [
    "df.dropna(inplace = True)"
   ]
  },
  {
   "cell_type": "code",
   "execution_count": 268,
   "id": "da0db8bb",
   "metadata": {},
   "outputs": [],
   "source": [
    "df.drop(labels = ['Current Ver','Android Ver','App'], axis = 1, inplace = True)"
   ]
  },
  {
   "cell_type": "code",
   "execution_count": 269,
   "id": "db197e81",
   "metadata": {},
   "outputs": [
    {
     "data": {
      "text/html": [
       "<div>\n",
       "<style scoped>\n",
       "    .dataframe tbody tr th:only-of-type {\n",
       "        vertical-align: middle;\n",
       "    }\n",
       "\n",
       "    .dataframe tbody tr th {\n",
       "        vertical-align: top;\n",
       "    }\n",
       "\n",
       "    .dataframe thead th {\n",
       "        text-align: right;\n",
       "    }\n",
       "</style>\n",
       "<table border=\"1\" class=\"dataframe\">\n",
       "  <thead>\n",
       "    <tr style=\"text-align: right;\">\n",
       "      <th></th>\n",
       "      <th>Category</th>\n",
       "      <th>Rating</th>\n",
       "      <th>Reviews</th>\n",
       "      <th>Size</th>\n",
       "      <th>Installs</th>\n",
       "      <th>Type</th>\n",
       "      <th>Price</th>\n",
       "      <th>Content Rating</th>\n",
       "      <th>Genres</th>\n",
       "      <th>Last Updated</th>\n",
       "    </tr>\n",
       "  </thead>\n",
       "  <tbody>\n",
       "    <tr>\n",
       "      <th>0</th>\n",
       "      <td>ART_AND_DESIGN</td>\n",
       "      <td>4.1</td>\n",
       "      <td>159</td>\n",
       "      <td>19M</td>\n",
       "      <td>10,000+</td>\n",
       "      <td>Free</td>\n",
       "      <td>0</td>\n",
       "      <td>Everyone</td>\n",
       "      <td>Art &amp; Design</td>\n",
       "      <td>January 7, 2018</td>\n",
       "    </tr>\n",
       "    <tr>\n",
       "      <th>1</th>\n",
       "      <td>ART_AND_DESIGN</td>\n",
       "      <td>3.9</td>\n",
       "      <td>967</td>\n",
       "      <td>14M</td>\n",
       "      <td>500,000+</td>\n",
       "      <td>Free</td>\n",
       "      <td>0</td>\n",
       "      <td>Everyone</td>\n",
       "      <td>Art &amp; Design;Pretend Play</td>\n",
       "      <td>January 15, 2018</td>\n",
       "    </tr>\n",
       "    <tr>\n",
       "      <th>2</th>\n",
       "      <td>ART_AND_DESIGN</td>\n",
       "      <td>4.7</td>\n",
       "      <td>87510</td>\n",
       "      <td>8.7M</td>\n",
       "      <td>5,000,000+</td>\n",
       "      <td>Free</td>\n",
       "      <td>0</td>\n",
       "      <td>Everyone</td>\n",
       "      <td>Art &amp; Design</td>\n",
       "      <td>August 1, 2018</td>\n",
       "    </tr>\n",
       "    <tr>\n",
       "      <th>3</th>\n",
       "      <td>ART_AND_DESIGN</td>\n",
       "      <td>4.5</td>\n",
       "      <td>215644</td>\n",
       "      <td>25M</td>\n",
       "      <td>50,000,000+</td>\n",
       "      <td>Free</td>\n",
       "      <td>0</td>\n",
       "      <td>Teen</td>\n",
       "      <td>Art &amp; Design</td>\n",
       "      <td>June 8, 2018</td>\n",
       "    </tr>\n",
       "    <tr>\n",
       "      <th>4</th>\n",
       "      <td>ART_AND_DESIGN</td>\n",
       "      <td>4.3</td>\n",
       "      <td>967</td>\n",
       "      <td>2.8M</td>\n",
       "      <td>100,000+</td>\n",
       "      <td>Free</td>\n",
       "      <td>0</td>\n",
       "      <td>Everyone</td>\n",
       "      <td>Art &amp; Design;Creativity</td>\n",
       "      <td>June 20, 2018</td>\n",
       "    </tr>\n",
       "  </tbody>\n",
       "</table>\n",
       "</div>"
      ],
      "text/plain": [
       "         Category  Rating Reviews  Size     Installs  Type Price  \\\n",
       "0  ART_AND_DESIGN     4.1     159   19M      10,000+  Free     0   \n",
       "1  ART_AND_DESIGN     3.9     967   14M     500,000+  Free     0   \n",
       "2  ART_AND_DESIGN     4.7   87510  8.7M   5,000,000+  Free     0   \n",
       "3  ART_AND_DESIGN     4.5  215644   25M  50,000,000+  Free     0   \n",
       "4  ART_AND_DESIGN     4.3     967  2.8M     100,000+  Free     0   \n",
       "\n",
       "  Content Rating                     Genres      Last Updated  \n",
       "0       Everyone               Art & Design   January 7, 2018  \n",
       "1       Everyone  Art & Design;Pretend Play  January 15, 2018  \n",
       "2       Everyone               Art & Design    August 1, 2018  \n",
       "3           Teen               Art & Design      June 8, 2018  \n",
       "4       Everyone    Art & Design;Creativity     June 20, 2018  "
      ]
     },
     "execution_count": 269,
     "metadata": {},
     "output_type": "execute_result"
    }
   ],
   "source": [
    "df.head()"
   ]
  },
  {
   "cell_type": "code",
   "execution_count": 270,
   "id": "dab3c2dc",
   "metadata": {},
   "outputs": [],
   "source": [
    "category_list = df['Category'].unique().tolist() \n",
    "category_list = ['cat_' + word for word in category_list]\n",
    "df = pd.concat([df, pd.get_dummies(df['Category'], prefix='cat')], axis=1)"
   ]
  },
  {
   "cell_type": "code",
   "execution_count": 271,
   "id": "a2b11ca1",
   "metadata": {},
   "outputs": [
    {
     "data": {
      "text/html": [
       "<div>\n",
       "<style scoped>\n",
       "    .dataframe tbody tr th:only-of-type {\n",
       "        vertical-align: middle;\n",
       "    }\n",
       "\n",
       "    .dataframe tbody tr th {\n",
       "        vertical-align: top;\n",
       "    }\n",
       "\n",
       "    .dataframe thead th {\n",
       "        text-align: right;\n",
       "    }\n",
       "</style>\n",
       "<table border=\"1\" class=\"dataframe\">\n",
       "  <thead>\n",
       "    <tr style=\"text-align: right;\">\n",
       "      <th></th>\n",
       "      <th>Category</th>\n",
       "      <th>Rating</th>\n",
       "      <th>Reviews</th>\n",
       "      <th>Size</th>\n",
       "      <th>Installs</th>\n",
       "      <th>Type</th>\n",
       "      <th>Price</th>\n",
       "      <th>Content Rating</th>\n",
       "      <th>Genres</th>\n",
       "      <th>Last Updated</th>\n",
       "      <th>...</th>\n",
       "      <th>cat_PERSONALIZATION</th>\n",
       "      <th>cat_PHOTOGRAPHY</th>\n",
       "      <th>cat_PRODUCTIVITY</th>\n",
       "      <th>cat_SHOPPING</th>\n",
       "      <th>cat_SOCIAL</th>\n",
       "      <th>cat_SPORTS</th>\n",
       "      <th>cat_TOOLS</th>\n",
       "      <th>cat_TRAVEL_AND_LOCAL</th>\n",
       "      <th>cat_VIDEO_PLAYERS</th>\n",
       "      <th>cat_WEATHER</th>\n",
       "    </tr>\n",
       "  </thead>\n",
       "  <tbody>\n",
       "    <tr>\n",
       "      <th>0</th>\n",
       "      <td>ART_AND_DESIGN</td>\n",
       "      <td>4.1</td>\n",
       "      <td>159</td>\n",
       "      <td>19M</td>\n",
       "      <td>10,000+</td>\n",
       "      <td>Free</td>\n",
       "      <td>0</td>\n",
       "      <td>Everyone</td>\n",
       "      <td>Art &amp; Design</td>\n",
       "      <td>January 7, 2018</td>\n",
       "      <td>...</td>\n",
       "      <td>0</td>\n",
       "      <td>0</td>\n",
       "      <td>0</td>\n",
       "      <td>0</td>\n",
       "      <td>0</td>\n",
       "      <td>0</td>\n",
       "      <td>0</td>\n",
       "      <td>0</td>\n",
       "      <td>0</td>\n",
       "      <td>0</td>\n",
       "    </tr>\n",
       "    <tr>\n",
       "      <th>1</th>\n",
       "      <td>ART_AND_DESIGN</td>\n",
       "      <td>3.9</td>\n",
       "      <td>967</td>\n",
       "      <td>14M</td>\n",
       "      <td>500,000+</td>\n",
       "      <td>Free</td>\n",
       "      <td>0</td>\n",
       "      <td>Everyone</td>\n",
       "      <td>Art &amp; Design;Pretend Play</td>\n",
       "      <td>January 15, 2018</td>\n",
       "      <td>...</td>\n",
       "      <td>0</td>\n",
       "      <td>0</td>\n",
       "      <td>0</td>\n",
       "      <td>0</td>\n",
       "      <td>0</td>\n",
       "      <td>0</td>\n",
       "      <td>0</td>\n",
       "      <td>0</td>\n",
       "      <td>0</td>\n",
       "      <td>0</td>\n",
       "    </tr>\n",
       "    <tr>\n",
       "      <th>2</th>\n",
       "      <td>ART_AND_DESIGN</td>\n",
       "      <td>4.7</td>\n",
       "      <td>87510</td>\n",
       "      <td>8.7M</td>\n",
       "      <td>5,000,000+</td>\n",
       "      <td>Free</td>\n",
       "      <td>0</td>\n",
       "      <td>Everyone</td>\n",
       "      <td>Art &amp; Design</td>\n",
       "      <td>August 1, 2018</td>\n",
       "      <td>...</td>\n",
       "      <td>0</td>\n",
       "      <td>0</td>\n",
       "      <td>0</td>\n",
       "      <td>0</td>\n",
       "      <td>0</td>\n",
       "      <td>0</td>\n",
       "      <td>0</td>\n",
       "      <td>0</td>\n",
       "      <td>0</td>\n",
       "      <td>0</td>\n",
       "    </tr>\n",
       "    <tr>\n",
       "      <th>3</th>\n",
       "      <td>ART_AND_DESIGN</td>\n",
       "      <td>4.5</td>\n",
       "      <td>215644</td>\n",
       "      <td>25M</td>\n",
       "      <td>50,000,000+</td>\n",
       "      <td>Free</td>\n",
       "      <td>0</td>\n",
       "      <td>Teen</td>\n",
       "      <td>Art &amp; Design</td>\n",
       "      <td>June 8, 2018</td>\n",
       "      <td>...</td>\n",
       "      <td>0</td>\n",
       "      <td>0</td>\n",
       "      <td>0</td>\n",
       "      <td>0</td>\n",
       "      <td>0</td>\n",
       "      <td>0</td>\n",
       "      <td>0</td>\n",
       "      <td>0</td>\n",
       "      <td>0</td>\n",
       "      <td>0</td>\n",
       "    </tr>\n",
       "    <tr>\n",
       "      <th>4</th>\n",
       "      <td>ART_AND_DESIGN</td>\n",
       "      <td>4.3</td>\n",
       "      <td>967</td>\n",
       "      <td>2.8M</td>\n",
       "      <td>100,000+</td>\n",
       "      <td>Free</td>\n",
       "      <td>0</td>\n",
       "      <td>Everyone</td>\n",
       "      <td>Art &amp; Design;Creativity</td>\n",
       "      <td>June 20, 2018</td>\n",
       "      <td>...</td>\n",
       "      <td>0</td>\n",
       "      <td>0</td>\n",
       "      <td>0</td>\n",
       "      <td>0</td>\n",
       "      <td>0</td>\n",
       "      <td>0</td>\n",
       "      <td>0</td>\n",
       "      <td>0</td>\n",
       "      <td>0</td>\n",
       "      <td>0</td>\n",
       "    </tr>\n",
       "  </tbody>\n",
       "</table>\n",
       "<p>5 rows × 43 columns</p>\n",
       "</div>"
      ],
      "text/plain": [
       "         Category  Rating Reviews  Size     Installs  Type Price  \\\n",
       "0  ART_AND_DESIGN     4.1     159   19M      10,000+  Free     0   \n",
       "1  ART_AND_DESIGN     3.9     967   14M     500,000+  Free     0   \n",
       "2  ART_AND_DESIGN     4.7   87510  8.7M   5,000,000+  Free     0   \n",
       "3  ART_AND_DESIGN     4.5  215644   25M  50,000,000+  Free     0   \n",
       "4  ART_AND_DESIGN     4.3     967  2.8M     100,000+  Free     0   \n",
       "\n",
       "  Content Rating                     Genres      Last Updated  ...  \\\n",
       "0       Everyone               Art & Design   January 7, 2018  ...   \n",
       "1       Everyone  Art & Design;Pretend Play  January 15, 2018  ...   \n",
       "2       Everyone               Art & Design    August 1, 2018  ...   \n",
       "3           Teen               Art & Design      June 8, 2018  ...   \n",
       "4       Everyone    Art & Design;Creativity     June 20, 2018  ...   \n",
       "\n",
       "   cat_PERSONALIZATION  cat_PHOTOGRAPHY  cat_PRODUCTIVITY  cat_SHOPPING  \\\n",
       "0                    0                0                 0             0   \n",
       "1                    0                0                 0             0   \n",
       "2                    0                0                 0             0   \n",
       "3                    0                0                 0             0   \n",
       "4                    0                0                 0             0   \n",
       "\n",
       "   cat_SOCIAL  cat_SPORTS  cat_TOOLS  cat_TRAVEL_AND_LOCAL  cat_VIDEO_PLAYERS  \\\n",
       "0           0           0          0                     0                  0   \n",
       "1           0           0          0                     0                  0   \n",
       "2           0           0          0                     0                  0   \n",
       "3           0           0          0                     0                  0   \n",
       "4           0           0          0                     0                  0   \n",
       "\n",
       "   cat_WEATHER  \n",
       "0            0  \n",
       "1            0  \n",
       "2            0  \n",
       "3            0  \n",
       "4            0  \n",
       "\n",
       "[5 rows x 43 columns]"
      ]
     },
     "execution_count": 271,
     "metadata": {},
     "output_type": "execute_result"
    }
   ],
   "source": [
    "df.head()"
   ]
  },
  {
   "cell_type": "code",
   "execution_count": 272,
   "id": "dfa35446",
   "metadata": {},
   "outputs": [],
   "source": [
    "le = preprocessing.LabelEncoder()\n",
    "df['Genres'] = le.fit_transform(df['Genres'])\n",
    "genre_name_mapping = dict(zip(le.classes_, le.transform(le.classes_)))"
   ]
  },
  {
   "cell_type": "code",
   "execution_count": 273,
   "id": "9026b616",
   "metadata": {},
   "outputs": [
    {
     "data": {
      "text/plain": [
       "{'Action': 0,\n",
       " 'Action;Action & Adventure': 1,\n",
       " 'Adventure': 2,\n",
       " 'Adventure;Action & Adventure': 3,\n",
       " 'Adventure;Brain Games': 4,\n",
       " 'Adventure;Education': 5,\n",
       " 'Arcade': 6,\n",
       " 'Arcade;Action & Adventure': 7,\n",
       " 'Arcade;Pretend Play': 8,\n",
       " 'Art & Design': 9,\n",
       " 'Art & Design;Creativity': 10,\n",
       " 'Art & Design;Pretend Play': 11,\n",
       " 'Auto & Vehicles': 12,\n",
       " 'Beauty': 13,\n",
       " 'Board': 14,\n",
       " 'Board;Action & Adventure': 15,\n",
       " 'Board;Brain Games': 16,\n",
       " 'Board;Pretend Play': 17,\n",
       " 'Books & Reference': 18,\n",
       " 'Books & Reference;Education': 19,\n",
       " 'Business': 20,\n",
       " 'Card': 21,\n",
       " 'Card;Action & Adventure': 22,\n",
       " 'Card;Brain Games': 23,\n",
       " 'Casino': 24,\n",
       " 'Casual': 25,\n",
       " 'Casual;Action & Adventure': 26,\n",
       " 'Casual;Brain Games': 27,\n",
       " 'Casual;Creativity': 28,\n",
       " 'Casual;Education': 29,\n",
       " 'Casual;Music & Video': 30,\n",
       " 'Casual;Pretend Play': 31,\n",
       " 'Comics': 32,\n",
       " 'Comics;Creativity': 33,\n",
       " 'Communication': 34,\n",
       " 'Communication;Creativity': 35,\n",
       " 'Dating': 36,\n",
       " 'Education': 37,\n",
       " 'Education;Action & Adventure': 38,\n",
       " 'Education;Brain Games': 39,\n",
       " 'Education;Creativity': 40,\n",
       " 'Education;Education': 41,\n",
       " 'Education;Music & Video': 42,\n",
       " 'Education;Pretend Play': 43,\n",
       " 'Educational': 44,\n",
       " 'Educational;Action & Adventure': 45,\n",
       " 'Educational;Brain Games': 46,\n",
       " 'Educational;Creativity': 47,\n",
       " 'Educational;Education': 48,\n",
       " 'Educational;Pretend Play': 49,\n",
       " 'Entertainment': 50,\n",
       " 'Entertainment;Action & Adventure': 51,\n",
       " 'Entertainment;Brain Games': 52,\n",
       " 'Entertainment;Creativity': 53,\n",
       " 'Entertainment;Education': 54,\n",
       " 'Entertainment;Music & Video': 55,\n",
       " 'Entertainment;Pretend Play': 56,\n",
       " 'Events': 57,\n",
       " 'Finance': 58,\n",
       " 'Food & Drink': 59,\n",
       " 'Health & Fitness': 60,\n",
       " 'Health & Fitness;Action & Adventure': 61,\n",
       " 'Health & Fitness;Education': 62,\n",
       " 'House & Home': 63,\n",
       " 'Libraries & Demo': 64,\n",
       " 'Lifestyle': 65,\n",
       " 'Lifestyle;Education': 66,\n",
       " 'Lifestyle;Pretend Play': 67,\n",
       " 'Maps & Navigation': 68,\n",
       " 'Medical': 69,\n",
       " 'Music': 70,\n",
       " 'Music & Audio;Music & Video': 71,\n",
       " 'Music;Music & Video': 72,\n",
       " 'News & Magazines': 73,\n",
       " 'Parenting': 74,\n",
       " 'Parenting;Brain Games': 75,\n",
       " 'Parenting;Education': 76,\n",
       " 'Parenting;Music & Video': 77,\n",
       " 'Personalization': 78,\n",
       " 'Photography': 79,\n",
       " 'Productivity': 80,\n",
       " 'Puzzle': 81,\n",
       " 'Puzzle;Action & Adventure': 82,\n",
       " 'Puzzle;Brain Games': 83,\n",
       " 'Puzzle;Creativity': 84,\n",
       " 'Puzzle;Education': 85,\n",
       " 'Racing': 86,\n",
       " 'Racing;Action & Adventure': 87,\n",
       " 'Racing;Pretend Play': 88,\n",
       " 'Role Playing': 89,\n",
       " 'Role Playing;Action & Adventure': 90,\n",
       " 'Role Playing;Brain Games': 91,\n",
       " 'Role Playing;Pretend Play': 92,\n",
       " 'Shopping': 93,\n",
       " 'Simulation': 94,\n",
       " 'Simulation;Action & Adventure': 95,\n",
       " 'Simulation;Education': 96,\n",
       " 'Simulation;Pretend Play': 97,\n",
       " 'Social': 98,\n",
       " 'Sports': 99,\n",
       " 'Sports;Action & Adventure': 100,\n",
       " 'Strategy': 101,\n",
       " 'Strategy;Action & Adventure': 102,\n",
       " 'Strategy;Creativity': 103,\n",
       " 'Strategy;Education': 104,\n",
       " 'Tools': 105,\n",
       " 'Tools;Education': 106,\n",
       " 'Travel & Local': 107,\n",
       " 'Travel & Local;Action & Adventure': 108,\n",
       " 'Trivia': 109,\n",
       " 'Video Players & Editors': 110,\n",
       " 'Video Players & Editors;Creativity': 111,\n",
       " 'Video Players & Editors;Music & Video': 112,\n",
       " 'Weather': 113,\n",
       " 'Word': 114}"
      ]
     },
     "execution_count": 273,
     "metadata": {},
     "output_type": "execute_result"
    }
   ],
   "source": [
    "genre_name_mapping"
   ]
  },
  {
   "cell_type": "code",
   "execution_count": 274,
   "id": "8306f810",
   "metadata": {},
   "outputs": [
    {
     "data": {
      "text/html": [
       "<div>\n",
       "<style scoped>\n",
       "    .dataframe tbody tr th:only-of-type {\n",
       "        vertical-align: middle;\n",
       "    }\n",
       "\n",
       "    .dataframe tbody tr th {\n",
       "        vertical-align: top;\n",
       "    }\n",
       "\n",
       "    .dataframe thead th {\n",
       "        text-align: right;\n",
       "    }\n",
       "</style>\n",
       "<table border=\"1\" class=\"dataframe\">\n",
       "  <thead>\n",
       "    <tr style=\"text-align: right;\">\n",
       "      <th></th>\n",
       "      <th>Category</th>\n",
       "      <th>Rating</th>\n",
       "      <th>Reviews</th>\n",
       "      <th>Size</th>\n",
       "      <th>Installs</th>\n",
       "      <th>Type</th>\n",
       "      <th>Price</th>\n",
       "      <th>Content Rating</th>\n",
       "      <th>Genres</th>\n",
       "      <th>Last Updated</th>\n",
       "      <th>...</th>\n",
       "      <th>cat_PERSONALIZATION</th>\n",
       "      <th>cat_PHOTOGRAPHY</th>\n",
       "      <th>cat_PRODUCTIVITY</th>\n",
       "      <th>cat_SHOPPING</th>\n",
       "      <th>cat_SOCIAL</th>\n",
       "      <th>cat_SPORTS</th>\n",
       "      <th>cat_TOOLS</th>\n",
       "      <th>cat_TRAVEL_AND_LOCAL</th>\n",
       "      <th>cat_VIDEO_PLAYERS</th>\n",
       "      <th>cat_WEATHER</th>\n",
       "    </tr>\n",
       "  </thead>\n",
       "  <tbody>\n",
       "    <tr>\n",
       "      <th>0</th>\n",
       "      <td>ART_AND_DESIGN</td>\n",
       "      <td>4.1</td>\n",
       "      <td>159</td>\n",
       "      <td>19M</td>\n",
       "      <td>10,000+</td>\n",
       "      <td>Free</td>\n",
       "      <td>0</td>\n",
       "      <td>Everyone</td>\n",
       "      <td>9</td>\n",
       "      <td>January 7, 2018</td>\n",
       "      <td>...</td>\n",
       "      <td>0</td>\n",
       "      <td>0</td>\n",
       "      <td>0</td>\n",
       "      <td>0</td>\n",
       "      <td>0</td>\n",
       "      <td>0</td>\n",
       "      <td>0</td>\n",
       "      <td>0</td>\n",
       "      <td>0</td>\n",
       "      <td>0</td>\n",
       "    </tr>\n",
       "    <tr>\n",
       "      <th>1</th>\n",
       "      <td>ART_AND_DESIGN</td>\n",
       "      <td>3.9</td>\n",
       "      <td>967</td>\n",
       "      <td>14M</td>\n",
       "      <td>500,000+</td>\n",
       "      <td>Free</td>\n",
       "      <td>0</td>\n",
       "      <td>Everyone</td>\n",
       "      <td>11</td>\n",
       "      <td>January 15, 2018</td>\n",
       "      <td>...</td>\n",
       "      <td>0</td>\n",
       "      <td>0</td>\n",
       "      <td>0</td>\n",
       "      <td>0</td>\n",
       "      <td>0</td>\n",
       "      <td>0</td>\n",
       "      <td>0</td>\n",
       "      <td>0</td>\n",
       "      <td>0</td>\n",
       "      <td>0</td>\n",
       "    </tr>\n",
       "    <tr>\n",
       "      <th>2</th>\n",
       "      <td>ART_AND_DESIGN</td>\n",
       "      <td>4.7</td>\n",
       "      <td>87510</td>\n",
       "      <td>8.7M</td>\n",
       "      <td>5,000,000+</td>\n",
       "      <td>Free</td>\n",
       "      <td>0</td>\n",
       "      <td>Everyone</td>\n",
       "      <td>9</td>\n",
       "      <td>August 1, 2018</td>\n",
       "      <td>...</td>\n",
       "      <td>0</td>\n",
       "      <td>0</td>\n",
       "      <td>0</td>\n",
       "      <td>0</td>\n",
       "      <td>0</td>\n",
       "      <td>0</td>\n",
       "      <td>0</td>\n",
       "      <td>0</td>\n",
       "      <td>0</td>\n",
       "      <td>0</td>\n",
       "    </tr>\n",
       "    <tr>\n",
       "      <th>3</th>\n",
       "      <td>ART_AND_DESIGN</td>\n",
       "      <td>4.5</td>\n",
       "      <td>215644</td>\n",
       "      <td>25M</td>\n",
       "      <td>50,000,000+</td>\n",
       "      <td>Free</td>\n",
       "      <td>0</td>\n",
       "      <td>Teen</td>\n",
       "      <td>9</td>\n",
       "      <td>June 8, 2018</td>\n",
       "      <td>...</td>\n",
       "      <td>0</td>\n",
       "      <td>0</td>\n",
       "      <td>0</td>\n",
       "      <td>0</td>\n",
       "      <td>0</td>\n",
       "      <td>0</td>\n",
       "      <td>0</td>\n",
       "      <td>0</td>\n",
       "      <td>0</td>\n",
       "      <td>0</td>\n",
       "    </tr>\n",
       "    <tr>\n",
       "      <th>4</th>\n",
       "      <td>ART_AND_DESIGN</td>\n",
       "      <td>4.3</td>\n",
       "      <td>967</td>\n",
       "      <td>2.8M</td>\n",
       "      <td>100,000+</td>\n",
       "      <td>Free</td>\n",
       "      <td>0</td>\n",
       "      <td>Everyone</td>\n",
       "      <td>10</td>\n",
       "      <td>June 20, 2018</td>\n",
       "      <td>...</td>\n",
       "      <td>0</td>\n",
       "      <td>0</td>\n",
       "      <td>0</td>\n",
       "      <td>0</td>\n",
       "      <td>0</td>\n",
       "      <td>0</td>\n",
       "      <td>0</td>\n",
       "      <td>0</td>\n",
       "      <td>0</td>\n",
       "      <td>0</td>\n",
       "    </tr>\n",
       "  </tbody>\n",
       "</table>\n",
       "<p>5 rows × 43 columns</p>\n",
       "</div>"
      ],
      "text/plain": [
       "         Category  Rating Reviews  Size     Installs  Type Price  \\\n",
       "0  ART_AND_DESIGN     4.1     159   19M      10,000+  Free     0   \n",
       "1  ART_AND_DESIGN     3.9     967   14M     500,000+  Free     0   \n",
       "2  ART_AND_DESIGN     4.7   87510  8.7M   5,000,000+  Free     0   \n",
       "3  ART_AND_DESIGN     4.5  215644   25M  50,000,000+  Free     0   \n",
       "4  ART_AND_DESIGN     4.3     967  2.8M     100,000+  Free     0   \n",
       "\n",
       "  Content Rating  Genres      Last Updated  ...  cat_PERSONALIZATION  \\\n",
       "0       Everyone       9   January 7, 2018  ...                    0   \n",
       "1       Everyone      11  January 15, 2018  ...                    0   \n",
       "2       Everyone       9    August 1, 2018  ...                    0   \n",
       "3           Teen       9      June 8, 2018  ...                    0   \n",
       "4       Everyone      10     June 20, 2018  ...                    0   \n",
       "\n",
       "   cat_PHOTOGRAPHY  cat_PRODUCTIVITY  cat_SHOPPING  cat_SOCIAL  cat_SPORTS  \\\n",
       "0                0                 0             0           0           0   \n",
       "1                0                 0             0           0           0   \n",
       "2                0                 0             0           0           0   \n",
       "3                0                 0             0           0           0   \n",
       "4                0                 0             0           0           0   \n",
       "\n",
       "   cat_TOOLS  cat_TRAVEL_AND_LOCAL  cat_VIDEO_PLAYERS  cat_WEATHER  \n",
       "0          0                     0                  0            0  \n",
       "1          0                     0                  0            0  \n",
       "2          0                     0                  0            0  \n",
       "3          0                     0                  0            0  \n",
       "4          0                     0                  0            0  \n",
       "\n",
       "[5 rows x 43 columns]"
      ]
     },
     "execution_count": 274,
     "metadata": {},
     "output_type": "execute_result"
    }
   ],
   "source": [
    "df.head()"
   ]
  },
  {
   "cell_type": "code",
   "execution_count": 275,
   "id": "848ed5fb",
   "metadata": {},
   "outputs": [
    {
     "data": {
      "text/plain": [
       "{'Adults only 18+': 0,\n",
       " 'Everyone': 1,\n",
       " 'Everyone 10+': 2,\n",
       " 'Mature 17+': 3,\n",
       " 'Teen': 4,\n",
       " 'Unrated': 5}"
      ]
     },
     "execution_count": 275,
     "metadata": {},
     "output_type": "execute_result"
    }
   ],
   "source": [
    "le = preprocessing.LabelEncoder()\n",
    "df['Content Rating'] = le.fit_transform(df['Content Rating'])\n",
    "content_rate_mapping = dict(zip(le.classes_, le.transform(le.classes_)))\n",
    "content_rate_mapping"
   ]
  },
  {
   "cell_type": "code",
   "execution_count": 276,
   "id": "5f6a9bd8",
   "metadata": {},
   "outputs": [],
   "source": [
    "df['Price'] = df['Price'].apply(lambda x : x.strip('$'))\n",
    "df['Installs'] = df['Installs'].apply(lambda x : x.strip('+').replace(',', ''))"
   ]
  },
  {
   "cell_type": "code",
   "execution_count": 277,
   "id": "9b308a3c",
   "metadata": {},
   "outputs": [],
   "source": [
    "\n",
    "df[\"Size\"] = [str(round(float(i.replace(\"k\", \"\"))/1024, 3)) if \"k\" in i else i for i in df.Size]\n",
    "df['Size'] = df['Size'].apply(lambda x: x.strip('M'))\n",
    "df[df['Size'] == 'Varies with device'] = 0\n",
    "df['Size'] = df['Size'].astype(float)"
   ]
  },
  {
   "cell_type": "code",
   "execution_count": 278,
   "id": "2b10ca54",
   "metadata": {},
   "outputs": [
    {
     "data": {
      "text/plain": [
       "array(['Free', 0, 'Paid'], dtype=object)"
      ]
     },
     "execution_count": 278,
     "metadata": {},
     "output_type": "execute_result"
    }
   ],
   "source": [
    "df['Type'].unique()"
   ]
  },
  {
   "cell_type": "code",
   "execution_count": 279,
   "id": "8d631027",
   "metadata": {},
   "outputs": [],
   "source": [
    "df['new'] = pd.to_datetime(df['Last Updated'])\n",
    "df['lastupdate'] = (df['new'] -  df['new'].max()).dt.days"
   ]
  },
  {
   "cell_type": "code",
   "execution_count": 280,
   "id": "dbb95cea",
   "metadata": {},
   "outputs": [],
   "source": [
    "x = df.drop(labels=[\"Rating\",\"Category\", \"Last Updated\", \"new\"], axis = 1)\n",
    "y = df['Rating']"
   ]
  },
  {
   "cell_type": "code",
   "execution_count": 281,
   "id": "8e8170ee",
   "metadata": {},
   "outputs": [],
   "source": [
    "df['Type'] = df['Type'].replace({'Free':0, \"Paid\":1})"
   ]
  },
  {
   "cell_type": "code",
   "execution_count": 282,
   "id": "04c88088",
   "metadata": {},
   "outputs": [],
   "source": [
    "x = df.drop(labels=[\"Rating\",\"Category\", \"Last Updated\", \"new\"], axis = 1)\n",
    "y = df['Rating']"
   ]
  },
  {
   "cell_type": "code",
   "execution_count": 283,
   "id": "b5512a82",
   "metadata": {},
   "outputs": [
    {
     "data": {
      "text/html": [
       "<div>\n",
       "<style scoped>\n",
       "    .dataframe tbody tr th:only-of-type {\n",
       "        vertical-align: middle;\n",
       "    }\n",
       "\n",
       "    .dataframe tbody tr th {\n",
       "        vertical-align: top;\n",
       "    }\n",
       "\n",
       "    .dataframe thead th {\n",
       "        text-align: right;\n",
       "    }\n",
       "</style>\n",
       "<table border=\"1\" class=\"dataframe\">\n",
       "  <thead>\n",
       "    <tr style=\"text-align: right;\">\n",
       "      <th></th>\n",
       "      <th>Reviews</th>\n",
       "      <th>Size</th>\n",
       "      <th>Installs</th>\n",
       "      <th>Type</th>\n",
       "      <th>Price</th>\n",
       "      <th>Content Rating</th>\n",
       "      <th>Genres</th>\n",
       "      <th>cat_ART_AND_DESIGN</th>\n",
       "      <th>cat_AUTO_AND_VEHICLES</th>\n",
       "      <th>cat_BEAUTY</th>\n",
       "      <th>...</th>\n",
       "      <th>cat_PHOTOGRAPHY</th>\n",
       "      <th>cat_PRODUCTIVITY</th>\n",
       "      <th>cat_SHOPPING</th>\n",
       "      <th>cat_SOCIAL</th>\n",
       "      <th>cat_SPORTS</th>\n",
       "      <th>cat_TOOLS</th>\n",
       "      <th>cat_TRAVEL_AND_LOCAL</th>\n",
       "      <th>cat_VIDEO_PLAYERS</th>\n",
       "      <th>cat_WEATHER</th>\n",
       "      <th>lastupdate</th>\n",
       "    </tr>\n",
       "  </thead>\n",
       "  <tbody>\n",
       "    <tr>\n",
       "      <th>0</th>\n",
       "      <td>159</td>\n",
       "      <td>19.0</td>\n",
       "      <td>10000</td>\n",
       "      <td>0</td>\n",
       "      <td>0</td>\n",
       "      <td>1</td>\n",
       "      <td>9</td>\n",
       "      <td>1</td>\n",
       "      <td>0</td>\n",
       "      <td>0</td>\n",
       "      <td>...</td>\n",
       "      <td>0</td>\n",
       "      <td>0</td>\n",
       "      <td>0</td>\n",
       "      <td>0</td>\n",
       "      <td>0</td>\n",
       "      <td>0</td>\n",
       "      <td>0</td>\n",
       "      <td>0</td>\n",
       "      <td>0</td>\n",
       "      <td>-213</td>\n",
       "    </tr>\n",
       "    <tr>\n",
       "      <th>1</th>\n",
       "      <td>967</td>\n",
       "      <td>14.0</td>\n",
       "      <td>500000</td>\n",
       "      <td>0</td>\n",
       "      <td>0</td>\n",
       "      <td>1</td>\n",
       "      <td>11</td>\n",
       "      <td>1</td>\n",
       "      <td>0</td>\n",
       "      <td>0</td>\n",
       "      <td>...</td>\n",
       "      <td>0</td>\n",
       "      <td>0</td>\n",
       "      <td>0</td>\n",
       "      <td>0</td>\n",
       "      <td>0</td>\n",
       "      <td>0</td>\n",
       "      <td>0</td>\n",
       "      <td>0</td>\n",
       "      <td>0</td>\n",
       "      <td>-205</td>\n",
       "    </tr>\n",
       "    <tr>\n",
       "      <th>2</th>\n",
       "      <td>87510</td>\n",
       "      <td>8.7</td>\n",
       "      <td>5000000</td>\n",
       "      <td>0</td>\n",
       "      <td>0</td>\n",
       "      <td>1</td>\n",
       "      <td>9</td>\n",
       "      <td>1</td>\n",
       "      <td>0</td>\n",
       "      <td>0</td>\n",
       "      <td>...</td>\n",
       "      <td>0</td>\n",
       "      <td>0</td>\n",
       "      <td>0</td>\n",
       "      <td>0</td>\n",
       "      <td>0</td>\n",
       "      <td>0</td>\n",
       "      <td>0</td>\n",
       "      <td>0</td>\n",
       "      <td>0</td>\n",
       "      <td>-7</td>\n",
       "    </tr>\n",
       "    <tr>\n",
       "      <th>3</th>\n",
       "      <td>215644</td>\n",
       "      <td>25.0</td>\n",
       "      <td>50000000</td>\n",
       "      <td>0</td>\n",
       "      <td>0</td>\n",
       "      <td>4</td>\n",
       "      <td>9</td>\n",
       "      <td>1</td>\n",
       "      <td>0</td>\n",
       "      <td>0</td>\n",
       "      <td>...</td>\n",
       "      <td>0</td>\n",
       "      <td>0</td>\n",
       "      <td>0</td>\n",
       "      <td>0</td>\n",
       "      <td>0</td>\n",
       "      <td>0</td>\n",
       "      <td>0</td>\n",
       "      <td>0</td>\n",
       "      <td>0</td>\n",
       "      <td>-61</td>\n",
       "    </tr>\n",
       "    <tr>\n",
       "      <th>4</th>\n",
       "      <td>967</td>\n",
       "      <td>2.8</td>\n",
       "      <td>100000</td>\n",
       "      <td>0</td>\n",
       "      <td>0</td>\n",
       "      <td>1</td>\n",
       "      <td>10</td>\n",
       "      <td>1</td>\n",
       "      <td>0</td>\n",
       "      <td>0</td>\n",
       "      <td>...</td>\n",
       "      <td>0</td>\n",
       "      <td>0</td>\n",
       "      <td>0</td>\n",
       "      <td>0</td>\n",
       "      <td>0</td>\n",
       "      <td>0</td>\n",
       "      <td>0</td>\n",
       "      <td>0</td>\n",
       "      <td>0</td>\n",
       "      <td>-49</td>\n",
       "    </tr>\n",
       "    <tr>\n",
       "      <th>...</th>\n",
       "      <td>...</td>\n",
       "      <td>...</td>\n",
       "      <td>...</td>\n",
       "      <td>...</td>\n",
       "      <td>...</td>\n",
       "      <td>...</td>\n",
       "      <td>...</td>\n",
       "      <td>...</td>\n",
       "      <td>...</td>\n",
       "      <td>...</td>\n",
       "      <td>...</td>\n",
       "      <td>...</td>\n",
       "      <td>...</td>\n",
       "      <td>...</td>\n",
       "      <td>...</td>\n",
       "      <td>...</td>\n",
       "      <td>...</td>\n",
       "      <td>...</td>\n",
       "      <td>...</td>\n",
       "      <td>...</td>\n",
       "      <td>...</td>\n",
       "    </tr>\n",
       "    <tr>\n",
       "      <th>10834</th>\n",
       "      <td>7</td>\n",
       "      <td>2.6</td>\n",
       "      <td>500</td>\n",
       "      <td>0</td>\n",
       "      <td>0</td>\n",
       "      <td>1</td>\n",
       "      <td>37</td>\n",
       "      <td>0</td>\n",
       "      <td>0</td>\n",
       "      <td>0</td>\n",
       "      <td>...</td>\n",
       "      <td>0</td>\n",
       "      <td>0</td>\n",
       "      <td>0</td>\n",
       "      <td>0</td>\n",
       "      <td>0</td>\n",
       "      <td>0</td>\n",
       "      <td>0</td>\n",
       "      <td>0</td>\n",
       "      <td>0</td>\n",
       "      <td>-416</td>\n",
       "    </tr>\n",
       "    <tr>\n",
       "      <th>10836</th>\n",
       "      <td>38</td>\n",
       "      <td>53.0</td>\n",
       "      <td>5000</td>\n",
       "      <td>0</td>\n",
       "      <td>0</td>\n",
       "      <td>1</td>\n",
       "      <td>37</td>\n",
       "      <td>0</td>\n",
       "      <td>0</td>\n",
       "      <td>0</td>\n",
       "      <td>...</td>\n",
       "      <td>0</td>\n",
       "      <td>0</td>\n",
       "      <td>0</td>\n",
       "      <td>0</td>\n",
       "      <td>0</td>\n",
       "      <td>0</td>\n",
       "      <td>0</td>\n",
       "      <td>0</td>\n",
       "      <td>0</td>\n",
       "      <td>-379</td>\n",
       "    </tr>\n",
       "    <tr>\n",
       "      <th>10837</th>\n",
       "      <td>4</td>\n",
       "      <td>3.6</td>\n",
       "      <td>100</td>\n",
       "      <td>0</td>\n",
       "      <td>0</td>\n",
       "      <td>1</td>\n",
       "      <td>37</td>\n",
       "      <td>0</td>\n",
       "      <td>0</td>\n",
       "      <td>0</td>\n",
       "      <td>...</td>\n",
       "      <td>0</td>\n",
       "      <td>0</td>\n",
       "      <td>0</td>\n",
       "      <td>0</td>\n",
       "      <td>0</td>\n",
       "      <td>0</td>\n",
       "      <td>0</td>\n",
       "      <td>0</td>\n",
       "      <td>0</td>\n",
       "      <td>-33</td>\n",
       "    </tr>\n",
       "    <tr>\n",
       "      <th>10839</th>\n",
       "      <td>0</td>\n",
       "      <td>0.0</td>\n",
       "      <td>0</td>\n",
       "      <td>0</td>\n",
       "      <td>0</td>\n",
       "      <td>0</td>\n",
       "      <td>0</td>\n",
       "      <td>0</td>\n",
       "      <td>0</td>\n",
       "      <td>0</td>\n",
       "      <td>...</td>\n",
       "      <td>0</td>\n",
       "      <td>0</td>\n",
       "      <td>0</td>\n",
       "      <td>0</td>\n",
       "      <td>0</td>\n",
       "      <td>0</td>\n",
       "      <td>0</td>\n",
       "      <td>0</td>\n",
       "      <td>0</td>\n",
       "      <td>-17751</td>\n",
       "    </tr>\n",
       "    <tr>\n",
       "      <th>10840</th>\n",
       "      <td>398307</td>\n",
       "      <td>19.0</td>\n",
       "      <td>10000000</td>\n",
       "      <td>0</td>\n",
       "      <td>0</td>\n",
       "      <td>1</td>\n",
       "      <td>65</td>\n",
       "      <td>0</td>\n",
       "      <td>0</td>\n",
       "      <td>0</td>\n",
       "      <td>...</td>\n",
       "      <td>0</td>\n",
       "      <td>0</td>\n",
       "      <td>0</td>\n",
       "      <td>0</td>\n",
       "      <td>0</td>\n",
       "      <td>0</td>\n",
       "      <td>0</td>\n",
       "      <td>0</td>\n",
       "      <td>0</td>\n",
       "      <td>-14</td>\n",
       "    </tr>\n",
       "  </tbody>\n",
       "</table>\n",
       "<p>9360 rows × 41 columns</p>\n",
       "</div>"
      ],
      "text/plain": [
       "      Reviews  Size  Installs  Type Price  Content Rating  Genres  \\\n",
       "0         159  19.0     10000     0     0               1       9   \n",
       "1         967  14.0    500000     0     0               1      11   \n",
       "2       87510   8.7   5000000     0     0               1       9   \n",
       "3      215644  25.0  50000000     0     0               4       9   \n",
       "4         967   2.8    100000     0     0               1      10   \n",
       "...       ...   ...       ...   ...   ...             ...     ...   \n",
       "10834       7   2.6       500     0     0               1      37   \n",
       "10836      38  53.0      5000     0     0               1      37   \n",
       "10837       4   3.6       100     0     0               1      37   \n",
       "10839       0   0.0         0     0     0               0       0   \n",
       "10840  398307  19.0  10000000     0     0               1      65   \n",
       "\n",
       "       cat_ART_AND_DESIGN  cat_AUTO_AND_VEHICLES  cat_BEAUTY  ...  \\\n",
       "0                       1                      0           0  ...   \n",
       "1                       1                      0           0  ...   \n",
       "2                       1                      0           0  ...   \n",
       "3                       1                      0           0  ...   \n",
       "4                       1                      0           0  ...   \n",
       "...                   ...                    ...         ...  ...   \n",
       "10834                   0                      0           0  ...   \n",
       "10836                   0                      0           0  ...   \n",
       "10837                   0                      0           0  ...   \n",
       "10839                   0                      0           0  ...   \n",
       "10840                   0                      0           0  ...   \n",
       "\n",
       "       cat_PHOTOGRAPHY  cat_PRODUCTIVITY  cat_SHOPPING  cat_SOCIAL  \\\n",
       "0                    0                 0             0           0   \n",
       "1                    0                 0             0           0   \n",
       "2                    0                 0             0           0   \n",
       "3                    0                 0             0           0   \n",
       "4                    0                 0             0           0   \n",
       "...                ...               ...           ...         ...   \n",
       "10834                0                 0             0           0   \n",
       "10836                0                 0             0           0   \n",
       "10837                0                 0             0           0   \n",
       "10839                0                 0             0           0   \n",
       "10840                0                 0             0           0   \n",
       "\n",
       "       cat_SPORTS  cat_TOOLS  cat_TRAVEL_AND_LOCAL  cat_VIDEO_PLAYERS  \\\n",
       "0               0          0                     0                  0   \n",
       "1               0          0                     0                  0   \n",
       "2               0          0                     0                  0   \n",
       "3               0          0                     0                  0   \n",
       "4               0          0                     0                  0   \n",
       "...           ...        ...                   ...                ...   \n",
       "10834           0          0                     0                  0   \n",
       "10836           0          0                     0                  0   \n",
       "10837           0          0                     0                  0   \n",
       "10839           0          0                     0                  0   \n",
       "10840           0          0                     0                  0   \n",
       "\n",
       "       cat_WEATHER  lastupdate  \n",
       "0                0        -213  \n",
       "1                0        -205  \n",
       "2                0          -7  \n",
       "3                0         -61  \n",
       "4                0         -49  \n",
       "...            ...         ...  \n",
       "10834            0        -416  \n",
       "10836            0        -379  \n",
       "10837            0         -33  \n",
       "10839            0      -17751  \n",
       "10840            0         -14  \n",
       "\n",
       "[9360 rows x 41 columns]"
      ]
     },
     "execution_count": 283,
     "metadata": {},
     "output_type": "execute_result"
    }
   ],
   "source": [
    "x"
   ]
  },
  {
   "cell_type": "code",
   "execution_count": 284,
   "id": "9596985a",
   "metadata": {},
   "outputs": [],
   "source": [
    "x_train, x_test, y_train, y_test = train_test_split(x, y, test_size = 0.30, random_state = 42)"
   ]
  },
  {
   "cell_type": "code",
   "execution_count": 285,
   "id": "3fd5714c",
   "metadata": {},
   "outputs": [
    {
     "data": {
      "text/plain": [
       "LinearRegression()"
      ]
     },
     "execution_count": 285,
     "metadata": {},
     "output_type": "execute_result"
    }
   ],
   "source": [
    "lr = LinearRegression()\n",
    "lr.fit(x_train, y_train)"
   ]
  },
  {
   "cell_type": "code",
   "execution_count": 286,
   "id": "c7d02511",
   "metadata": {},
   "outputs": [
    {
     "data": {
      "text/plain": [
       "'Accuracy: 91.52%'"
      ]
     },
     "execution_count": 286,
     "metadata": {},
     "output_type": "execute_result"
    }
   ],
   "source": [
    "accuracy = lr.score(x_test,y_test)\n",
    "'Accuracy: ' + str(np.round(accuracy*100, 2)) + '%'"
   ]
  },
  {
   "cell_type": "code",
   "execution_count": 287,
   "id": "b7f5e5ee",
   "metadata": {},
   "outputs": [
    {
     "data": {
      "text/plain": [
       "Reviews                      159\n",
       "Size                        19.0\n",
       "Installs                   10000\n",
       "Type                           0\n",
       "Price                          0\n",
       "Content Rating                 1\n",
       "Genres                         9\n",
       "cat_ART_AND_DESIGN             1\n",
       "cat_AUTO_AND_VEHICLES          0\n",
       "cat_BEAUTY                     0\n",
       "cat_BOOKS_AND_REFERENCE        0\n",
       "cat_BUSINESS                   0\n",
       "cat_COMICS                     0\n",
       "cat_COMMUNICATION              0\n",
       "cat_DATING                     0\n",
       "cat_EDUCATION                  0\n",
       "cat_ENTERTAINMENT              0\n",
       "cat_EVENTS                     0\n",
       "cat_FAMILY                     0\n",
       "cat_FINANCE                    0\n",
       "cat_FOOD_AND_DRINK             0\n",
       "cat_GAME                       0\n",
       "cat_HEALTH_AND_FITNESS         0\n",
       "cat_HOUSE_AND_HOME             0\n",
       "cat_LIBRARIES_AND_DEMO         0\n",
       "cat_LIFESTYLE                  0\n",
       "cat_MAPS_AND_NAVIGATION        0\n",
       "cat_MEDICAL                    0\n",
       "cat_NEWS_AND_MAGAZINES         0\n",
       "cat_PARENTING                  0\n",
       "cat_PERSONALIZATION            0\n",
       "cat_PHOTOGRAPHY                0\n",
       "cat_PRODUCTIVITY               0\n",
       "cat_SHOPPING                   0\n",
       "cat_SOCIAL                     0\n",
       "cat_SPORTS                     0\n",
       "cat_TOOLS                      0\n",
       "cat_TRAVEL_AND_LOCAL           0\n",
       "cat_VIDEO_PLAYERS              0\n",
       "cat_WEATHER                    0\n",
       "lastupdate                  -213\n",
       "Name: 0, dtype: object"
      ]
     },
     "execution_count": 287,
     "metadata": {},
     "output_type": "execute_result"
    }
   ],
   "source": [
    "x.loc[0]"
   ]
  },
  {
   "cell_type": "code",
   "execution_count": 288,
   "id": "7873a3bc",
   "metadata": {},
   "outputs": [
    {
     "name": "stderr",
     "output_type": "stream",
     "text": [
      "/Users/chiranthdg/opt/anaconda3/lib/python3.9/site-packages/sklearn/base.py:450: UserWarning: X does not have valid feature names, but LinearRegression was fitted with feature names\n",
      "  warnings.warn(\n"
     ]
    },
    {
     "data": {
      "text/plain": [
       "array([4.42153747])"
      ]
     },
     "execution_count": 288,
     "metadata": {},
     "output_type": "execute_result"
    }
   ],
   "source": [
    "val=[159,19.0,10000,0,0,1,9,1,0,0,0,0,0,0,0,0,0,0,0,0,0,0,0,0,0,0,0,0,0,0,0,0,0,0,0,0,0,0,0,0,-253]\n",
    "lr.predict([val])"
   ]
  },
  {
   "cell_type": "code",
   "execution_count": 289,
   "id": "8e2e2b5e",
   "metadata": {},
   "outputs": [
    {
     "data": {
      "text/plain": [
       "Category                        ART_AND_DESIGN\n",
       "Rating                                     4.1\n",
       "Reviews                                    159\n",
       "Size                                      19.0\n",
       "Installs                                 10000\n",
       "Type                                         0\n",
       "Price                                        0\n",
       "Content Rating                               1\n",
       "Genres                                       9\n",
       "Last Updated                   January 7, 2018\n",
       "cat_ART_AND_DESIGN                           1\n",
       "cat_AUTO_AND_VEHICLES                        0\n",
       "cat_BEAUTY                                   0\n",
       "cat_BOOKS_AND_REFERENCE                      0\n",
       "cat_BUSINESS                                 0\n",
       "cat_COMICS                                   0\n",
       "cat_COMMUNICATION                            0\n",
       "cat_DATING                                   0\n",
       "cat_EDUCATION                                0\n",
       "cat_ENTERTAINMENT                            0\n",
       "cat_EVENTS                                   0\n",
       "cat_FAMILY                                   0\n",
       "cat_FINANCE                                  0\n",
       "cat_FOOD_AND_DRINK                           0\n",
       "cat_GAME                                     0\n",
       "cat_HEALTH_AND_FITNESS                       0\n",
       "cat_HOUSE_AND_HOME                           0\n",
       "cat_LIBRARIES_AND_DEMO                       0\n",
       "cat_LIFESTYLE                                0\n",
       "cat_MAPS_AND_NAVIGATION                      0\n",
       "cat_MEDICAL                                  0\n",
       "cat_NEWS_AND_MAGAZINES                       0\n",
       "cat_PARENTING                                0\n",
       "cat_PERSONALIZATION                          0\n",
       "cat_PHOTOGRAPHY                              0\n",
       "cat_PRODUCTIVITY                             0\n",
       "cat_SHOPPING                                 0\n",
       "cat_SOCIAL                                   0\n",
       "cat_SPORTS                                   0\n",
       "cat_TOOLS                                    0\n",
       "cat_TRAVEL_AND_LOCAL                         0\n",
       "cat_VIDEO_PLAYERS                            0\n",
       "cat_WEATHER                                  0\n",
       "new                        2018-01-07 00:00:00\n",
       "lastupdate                                -213\n",
       "Name: 0, dtype: object"
      ]
     },
     "execution_count": 289,
     "metadata": {},
     "output_type": "execute_result"
    }
   ],
   "source": [
    "df.loc[0]"
   ]
  },
  {
   "cell_type": "code",
   "execution_count": null,
   "id": "82001e7b",
   "metadata": {},
   "outputs": [],
   "source": []
  },
  {
   "cell_type": "code",
   "execution_count": 290,
   "id": "3fca418c",
   "metadata": {},
   "outputs": [
    {
     "data": {
      "text/plain": [
       "10000"
      ]
     },
     "execution_count": 290,
     "metadata": {},
     "output_type": "execute_result"
    }
   ],
   "source": [
    "max(val)"
   ]
  },
  {
   "cell_type": "code",
   "execution_count": 291,
   "id": "ca57a95a",
   "metadata": {},
   "outputs": [
    {
     "data": {
      "text/plain": [
       "-253"
      ]
     },
     "execution_count": 291,
     "metadata": {},
     "output_type": "execute_result"
    }
   ],
   "source": [
    "min(val)*1"
   ]
  },
  {
   "cell_type": "code",
   "execution_count": 292,
   "id": "0a997ae0",
   "metadata": {},
   "outputs": [
    {
     "data": {
      "text/plain": [
       "5.0"
      ]
     },
     "execution_count": 292,
     "metadata": {},
     "output_type": "execute_result"
    }
   ],
   "source": [
    "max(y_test)"
   ]
  },
  {
   "cell_type": "code",
   "execution_count": 293,
   "id": "b25d1dfa",
   "metadata": {},
   "outputs": [
    {
     "data": {
      "text/plain": [
       "0.0"
      ]
     },
     "execution_count": 293,
     "metadata": {},
     "output_type": "execute_result"
    }
   ],
   "source": [
    "min(y_test)"
   ]
  },
  {
   "cell_type": "code",
   "execution_count": 294,
   "id": "52a1a21c",
   "metadata": {},
   "outputs": [
    {
     "data": {
      "text/plain": [
       "KNeighborsRegressor(n_neighbors=50)"
      ]
     },
     "execution_count": 294,
     "metadata": {},
     "output_type": "execute_result"
    }
   ],
   "source": [
    "knn = KNeighborsRegressor(n_neighbors=50)\n",
    "knn.fit(x_train, y_train)"
   ]
  },
  {
   "cell_type": "code",
   "execution_count": 295,
   "id": "649f2d9c",
   "metadata": {},
   "outputs": [],
   "source": [
    "trial=knn.predict(x_train).tolist()"
   ]
  },
  {
   "cell_type": "code",
   "execution_count": 296,
   "id": "7e7c28eb",
   "metadata": {},
   "outputs": [
    {
     "data": {
      "text/plain": [
       "4.85"
      ]
     },
     "execution_count": 296,
     "metadata": {},
     "output_type": "execute_result"
    }
   ],
   "source": [
    "max(trial)"
   ]
  },
  {
   "cell_type": "markdown",
   "id": "3d10411b",
   "metadata": {},
   "source": []
  },
  {
   "cell_type": "code",
   "execution_count": 297,
   "id": "b813e05d",
   "metadata": {},
   "outputs": [
    {
     "data": {
      "text/plain": [
       "0.0"
      ]
     },
     "execution_count": 297,
     "metadata": {},
     "output_type": "execute_result"
    }
   ],
   "source": [
    "min(trial)"
   ]
  },
  {
   "cell_type": "code",
   "execution_count": 298,
   "id": "7fbd1456",
   "metadata": {},
   "outputs": [
    {
     "name": "stderr",
     "output_type": "stream",
     "text": [
      "/Users/chiranthdg/opt/anaconda3/lib/python3.9/site-packages/sklearn/base.py:450: UserWarning: X does not have valid feature names, but KNeighborsRegressor was fitted with feature names\n",
      "  warnings.warn(\n"
     ]
    },
    {
     "data": {
      "text/plain": [
       "array([4.078])"
      ]
     },
     "execution_count": 298,
     "metadata": {},
     "output_type": "execute_result"
    }
   ],
   "source": [
    "knn.predict([val])"
   ]
  },
  {
   "cell_type": "code",
   "execution_count": 299,
   "id": "b2ea34f0",
   "metadata": {},
   "outputs": [
    {
     "name": "stderr",
     "output_type": "stream",
     "text": [
      "/Users/chiranthdg/opt/anaconda3/lib/python3.9/site-packages/sklearn/base.py:450: UserWarning: X does not have valid feature names, but LinearRegression was fitted with feature names\n",
      "  warnings.warn(\n"
     ]
    },
    {
     "data": {
      "text/plain": [
       "array([4.42153747])"
      ]
     },
     "execution_count": 299,
     "metadata": {},
     "output_type": "execute_result"
    }
   ],
   "source": [
    "lr.predict([val])"
   ]
  },
  {
   "cell_type": "code",
   "execution_count": 300,
   "id": "990e01f5",
   "metadata": {},
   "outputs": [
    {
     "data": {
      "text/plain": [
       "Category                        ART_AND_DESIGN\n",
       "Rating                                     4.4\n",
       "Reviews                                  13880\n",
       "Size                                      28.0\n",
       "Installs                               1000000\n",
       "Type                                         0\n",
       "Price                                        0\n",
       "Content Rating                               1\n",
       "Genres                                       9\n",
       "Last Updated                  October 27, 2017\n",
       "cat_ART_AND_DESIGN                           1\n",
       "cat_AUTO_AND_VEHICLES                        0\n",
       "cat_BEAUTY                                   0\n",
       "cat_BOOKS_AND_REFERENCE                      0\n",
       "cat_BUSINESS                                 0\n",
       "cat_COMICS                                   0\n",
       "cat_COMMUNICATION                            0\n",
       "cat_DATING                                   0\n",
       "cat_EDUCATION                                0\n",
       "cat_ENTERTAINMENT                            0\n",
       "cat_EVENTS                                   0\n",
       "cat_FAMILY                                   0\n",
       "cat_FINANCE                                  0\n",
       "cat_FOOD_AND_DRINK                           0\n",
       "cat_GAME                                     0\n",
       "cat_HEALTH_AND_FITNESS                       0\n",
       "cat_HOUSE_AND_HOME                           0\n",
       "cat_LIBRARIES_AND_DEMO                       0\n",
       "cat_LIFESTYLE                                0\n",
       "cat_MAPS_AND_NAVIGATION                      0\n",
       "cat_MEDICAL                                  0\n",
       "cat_NEWS_AND_MAGAZINES                       0\n",
       "cat_PARENTING                                0\n",
       "cat_PERSONALIZATION                          0\n",
       "cat_PHOTOGRAPHY                              0\n",
       "cat_PRODUCTIVITY                             0\n",
       "cat_SHOPPING                                 0\n",
       "cat_SOCIAL                                   0\n",
       "cat_SPORTS                                   0\n",
       "cat_TOOLS                                    0\n",
       "cat_TRAVEL_AND_LOCAL                         0\n",
       "cat_VIDEO_PLAYERS                            0\n",
       "cat_WEATHER                                  0\n",
       "new                        2017-10-27 00:00:00\n",
       "lastupdate                                -285\n",
       "Name: 10, dtype: object"
      ]
     },
     "execution_count": 300,
     "metadata": {},
     "output_type": "execute_result"
    }
   ],
   "source": [
    "df.loc[10]"
   ]
  },
  {
   "cell_type": "code",
   "execution_count": 301,
   "id": "b8101ce7",
   "metadata": {},
   "outputs": [],
   "source": [
    "zz=x_test.iloc[10].tolist()"
   ]
  },
  {
   "cell_type": "code",
   "execution_count": 302,
   "id": "5314d20f",
   "metadata": {},
   "outputs": [
    {
     "data": {
      "text/plain": [
       "['146',\n",
       " 7.1,\n",
       " '10000',\n",
       " 0,\n",
       " '0',\n",
       " 1,\n",
       " 73,\n",
       " 0,\n",
       " 0,\n",
       " 0,\n",
       " 0,\n",
       " 0,\n",
       " 0,\n",
       " 0,\n",
       " 0,\n",
       " 0,\n",
       " 0,\n",
       " 0,\n",
       " 0,\n",
       " 0,\n",
       " 0,\n",
       " 0,\n",
       " 0,\n",
       " 0,\n",
       " 0,\n",
       " 0,\n",
       " 0,\n",
       " 0,\n",
       " 1,\n",
       " 0,\n",
       " 0,\n",
       " 0,\n",
       " 0,\n",
       " 0,\n",
       " 0,\n",
       " 0,\n",
       " 0,\n",
       " 0,\n",
       " 0,\n",
       " 0,\n",
       " -526]"
      ]
     },
     "execution_count": 302,
     "metadata": {},
     "output_type": "execute_result"
    }
   ],
   "source": [
    "zz"
   ]
  },
  {
   "cell_type": "code",
   "execution_count": 303,
   "id": "199dc727",
   "metadata": {},
   "outputs": [
    {
     "data": {
      "text/plain": [
       "4.6"
      ]
     },
     "execution_count": 303,
     "metadata": {},
     "output_type": "execute_result"
    }
   ],
   "source": [
    "y_test.iloc[10]"
   ]
  },
  {
   "cell_type": "code",
   "execution_count": 304,
   "id": "b658da28",
   "metadata": {},
   "outputs": [
    {
     "name": "stderr",
     "output_type": "stream",
     "text": [
      "/Users/chiranthdg/opt/anaconda3/lib/python3.9/site-packages/sklearn/base.py:450: UserWarning: X does not have valid feature names, but KNeighborsRegressor was fitted with feature names\n",
      "  warnings.warn(\n",
      "/Users/chiranthdg/opt/anaconda3/lib/python3.9/site-packages/sklearn/base.py:566: FutureWarning: Arrays of bytes/strings is being converted to decimal numbers if dtype='numeric'. This behavior is deprecated in 0.24 and will be removed in 1.1 (renaming of 0.26). Please convert your data to numeric values explicitly instead.\n",
      "  X = check_array(X, **check_params)\n"
     ]
    },
    {
     "data": {
      "text/plain": [
       "array([3.882])"
      ]
     },
     "execution_count": 304,
     "metadata": {},
     "output_type": "execute_result"
    }
   ],
   "source": [
    "knn.predict([zz])"
   ]
  },
  {
   "cell_type": "code",
   "execution_count": 305,
   "id": "3bcf930d",
   "metadata": {},
   "outputs": [
    {
     "name": "stderr",
     "output_type": "stream",
     "text": [
      "/Users/chiranthdg/opt/anaconda3/lib/python3.9/site-packages/sklearn/base.py:450: UserWarning: X does not have valid feature names, but LinearRegression was fitted with feature names\n",
      "  warnings.warn(\n",
      "/Users/chiranthdg/opt/anaconda3/lib/python3.9/site-packages/sklearn/base.py:566: FutureWarning: Arrays of bytes/strings is being converted to decimal numbers if dtype='numeric'. This behavior is deprecated in 0.24 and will be removed in 1.1 (renaming of 0.26). Please convert your data to numeric values explicitly instead.\n",
      "  X = check_array(X, **check_params)\n"
     ]
    },
    {
     "data": {
      "text/plain": [
       "array([4.03763619])"
      ]
     },
     "execution_count": 305,
     "metadata": {},
     "output_type": "execute_result"
    }
   ],
   "source": [
    "lr.predict([zz])"
   ]
  },
  {
   "cell_type": "code",
   "execution_count": 306,
   "id": "9a91a019",
   "metadata": {},
   "outputs": [],
   "source": [
    "from sklearn.metrics import mean_squared_error"
   ]
  },
  {
   "cell_type": "code",
   "execution_count": 307,
   "id": "7dd400b3",
   "metadata": {},
   "outputs": [],
   "source": [
    "y_pred=lr.predict(x_test)"
   ]
  },
  {
   "cell_type": "code",
   "execution_count": 308,
   "id": "2b47bdf8",
   "metadata": {},
   "outputs": [
    {
     "data": {
      "text/plain": [
       "0.22855581910226563"
      ]
     },
     "execution_count": 308,
     "metadata": {},
     "output_type": "execute_result"
    }
   ],
   "source": [
    "mean_squared_error(y_test,y_pred)"
   ]
  },
  {
   "cell_type": "code",
   "execution_count": 309,
   "id": "18e13794",
   "metadata": {},
   "outputs": [],
   "source": [
    "y_pred2=knn.predict(x_test)"
   ]
  },
  {
   "cell_type": "code",
   "execution_count": 310,
   "id": "c4dbf4dc",
   "metadata": {},
   "outputs": [
    {
     "data": {
      "text/plain": [
       "0.21623587179487183"
      ]
     },
     "execution_count": 310,
     "metadata": {},
     "output_type": "execute_result"
    }
   ],
   "source": [
    "mean_squared_error(y_test,y_pred2)"
   ]
  },
  {
   "cell_type": "code",
   "execution_count": 311,
   "id": "d83d0033",
   "metadata": {},
   "outputs": [],
   "source": [
    "import pickle"
   ]
  },
  {
   "cell_type": "code",
   "execution_count": 312,
   "id": "3a0447a0",
   "metadata": {},
   "outputs": [],
   "source": [
    "with open('model_gplafin','wb') as files:\n",
    "    pickle.dump(knn,files)"
   ]
  },
  {
   "cell_type": "code",
   "execution_count": 313,
   "id": "0bee2ac3",
   "metadata": {
    "scrolled": true
   },
   "outputs": [
    {
     "name": "stdout",
     "output_type": "stream",
     "text": [
      "<class 'pandas.core.frame.DataFrame'>\n",
      "Int64Index: 6552 entries, 6816 to 8189\n",
      "Data columns (total 41 columns):\n",
      " #   Column                   Non-Null Count  Dtype  \n",
      "---  ------                   --------------  -----  \n",
      " 0   Reviews                  6552 non-null   object \n",
      " 1   Size                     6552 non-null   float64\n",
      " 2   Installs                 6552 non-null   object \n",
      " 3   Type                     6552 non-null   int64  \n",
      " 4   Price                    6552 non-null   object \n",
      " 5   Content Rating           6552 non-null   int64  \n",
      " 6   Genres                   6552 non-null   int64  \n",
      " 7   cat_ART_AND_DESIGN       6552 non-null   uint8  \n",
      " 8   cat_AUTO_AND_VEHICLES    6552 non-null   uint8  \n",
      " 9   cat_BEAUTY               6552 non-null   uint8  \n",
      " 10  cat_BOOKS_AND_REFERENCE  6552 non-null   uint8  \n",
      " 11  cat_BUSINESS             6552 non-null   uint8  \n",
      " 12  cat_COMICS               6552 non-null   uint8  \n",
      " 13  cat_COMMUNICATION        6552 non-null   uint8  \n",
      " 14  cat_DATING               6552 non-null   uint8  \n",
      " 15  cat_EDUCATION            6552 non-null   uint8  \n",
      " 16  cat_ENTERTAINMENT        6552 non-null   uint8  \n",
      " 17  cat_EVENTS               6552 non-null   uint8  \n",
      " 18  cat_FAMILY               6552 non-null   uint8  \n",
      " 19  cat_FINANCE              6552 non-null   uint8  \n",
      " 20  cat_FOOD_AND_DRINK       6552 non-null   uint8  \n",
      " 21  cat_GAME                 6552 non-null   uint8  \n",
      " 22  cat_HEALTH_AND_FITNESS   6552 non-null   uint8  \n",
      " 23  cat_HOUSE_AND_HOME       6552 non-null   uint8  \n",
      " 24  cat_LIBRARIES_AND_DEMO   6552 non-null   uint8  \n",
      " 25  cat_LIFESTYLE            6552 non-null   uint8  \n",
      " 26  cat_MAPS_AND_NAVIGATION  6552 non-null   uint8  \n",
      " 27  cat_MEDICAL              6552 non-null   uint8  \n",
      " 28  cat_NEWS_AND_MAGAZINES   6552 non-null   uint8  \n",
      " 29  cat_PARENTING            6552 non-null   uint8  \n",
      " 30  cat_PERSONALIZATION      6552 non-null   uint8  \n",
      " 31  cat_PHOTOGRAPHY          6552 non-null   uint8  \n",
      " 32  cat_PRODUCTIVITY         6552 non-null   uint8  \n",
      " 33  cat_SHOPPING             6552 non-null   uint8  \n",
      " 34  cat_SOCIAL               6552 non-null   uint8  \n",
      " 35  cat_SPORTS               6552 non-null   uint8  \n",
      " 36  cat_TOOLS                6552 non-null   uint8  \n",
      " 37  cat_TRAVEL_AND_LOCAL     6552 non-null   uint8  \n",
      " 38  cat_VIDEO_PLAYERS        6552 non-null   uint8  \n",
      " 39  cat_WEATHER              6552 non-null   uint8  \n",
      " 40  lastupdate               6552 non-null   int64  \n",
      "dtypes: float64(1), int64(4), object(3), uint8(33)\n",
      "memory usage: 671.8+ KB\n"
     ]
    }
   ],
   "source": [
    "x_train.info()"
   ]
  },
  {
   "cell_type": "code",
   "execution_count": 314,
   "id": "4206c85b",
   "metadata": {},
   "outputs": [
    {
     "data": {
      "text/plain": [
       "array([ 37,  58,  41,   0, 105,  21,  81,  78,  20,  50, 110,  69,  65,\n",
       "         6,  34,  70,  59,  94,  79,  43,   2,  80,  36,  99, 101, 107,\n",
       "        98,  93,   3,  73,  25,  60,  44, 113,  74,  46,  32,  86,  12,\n",
       "        57,  68,  23,  18,  89,  38,  14,  13,  64, 109,  45,  63,  10,\n",
       "        31,  26,   7,  15,  49,  51,   9,  27,  72,  40,  83,   1,  55,\n",
       "        24,  42, 114,  97,  30,  95,  52,  16,  87,  28, 111,  56,  82,\n",
       "        29, 100,  92,  54, 102,  33,  90,  48,  96,  88,  39,  47,  61,\n",
       "        77,  53,   4, 112,  22,  84,  11,   8,  67,  62,  76,  19,  85])"
      ]
     },
     "execution_count": 314,
     "metadata": {},
     "output_type": "execute_result"
    }
   ],
   "source": [
    "x_train['Genres'].unique()"
   ]
  },
  {
   "cell_type": "code",
   "execution_count": 315,
   "id": "1d668307",
   "metadata": {},
   "outputs": [
    {
     "data": {
      "text/plain": [
       "['Action',\n",
       " 'Action;Action & Adventure',\n",
       " 'Adventure',\n",
       " 'Adventure;Action & Adventure',\n",
       " 'Adventure;Brain Games',\n",
       " 'Adventure;Education',\n",
       " 'Arcade',\n",
       " 'Arcade;Action & Adventure',\n",
       " 'Arcade;Pretend Play',\n",
       " 'Art & Design',\n",
       " 'Art & Design;Creativity',\n",
       " 'Art & Design;Pretend Play',\n",
       " 'Auto & Vehicles',\n",
       " 'Beauty',\n",
       " 'Board',\n",
       " 'Board;Action & Adventure',\n",
       " 'Board;Brain Games',\n",
       " 'Board;Pretend Play',\n",
       " 'Books & Reference',\n",
       " 'Books & Reference;Education',\n",
       " 'Business',\n",
       " 'Card',\n",
       " 'Card;Action & Adventure',\n",
       " 'Card;Brain Games',\n",
       " 'Casino',\n",
       " 'Casual',\n",
       " 'Casual;Action & Adventure',\n",
       " 'Casual;Brain Games',\n",
       " 'Casual;Creativity',\n",
       " 'Casual;Education',\n",
       " 'Casual;Music & Video',\n",
       " 'Casual;Pretend Play',\n",
       " 'Comics',\n",
       " 'Comics;Creativity',\n",
       " 'Communication',\n",
       " 'Communication;Creativity',\n",
       " 'Dating',\n",
       " 'Education',\n",
       " 'Education;Action & Adventure',\n",
       " 'Education;Brain Games',\n",
       " 'Education;Creativity',\n",
       " 'Education;Education',\n",
       " 'Education;Music & Video',\n",
       " 'Education;Pretend Play',\n",
       " 'Educational',\n",
       " 'Educational;Action & Adventure',\n",
       " 'Educational;Brain Games',\n",
       " 'Educational;Creativity',\n",
       " 'Educational;Education',\n",
       " 'Educational;Pretend Play',\n",
       " 'Entertainment',\n",
       " 'Entertainment;Action & Adventure',\n",
       " 'Entertainment;Brain Games',\n",
       " 'Entertainment;Creativity',\n",
       " 'Entertainment;Education',\n",
       " 'Entertainment;Music & Video',\n",
       " 'Entertainment;Pretend Play',\n",
       " 'Events',\n",
       " 'Finance',\n",
       " 'Food & Drink',\n",
       " 'Health & Fitness',\n",
       " 'Health & Fitness;Action & Adventure',\n",
       " 'Health & Fitness;Education',\n",
       " 'House & Home',\n",
       " 'Libraries & Demo',\n",
       " 'Lifestyle',\n",
       " 'Lifestyle;Education',\n",
       " 'Lifestyle;Pretend Play',\n",
       " 'Maps & Navigation',\n",
       " 'Medical',\n",
       " 'Music',\n",
       " 'Music & Audio;Music & Video',\n",
       " 'Music;Music & Video',\n",
       " 'News & Magazines',\n",
       " 'Parenting',\n",
       " 'Parenting;Brain Games',\n",
       " 'Parenting;Education',\n",
       " 'Parenting;Music & Video',\n",
       " 'Personalization',\n",
       " 'Photography',\n",
       " 'Productivity',\n",
       " 'Puzzle',\n",
       " 'Puzzle;Action & Adventure',\n",
       " 'Puzzle;Brain Games',\n",
       " 'Puzzle;Creativity',\n",
       " 'Puzzle;Education',\n",
       " 'Racing',\n",
       " 'Racing;Action & Adventure',\n",
       " 'Racing;Pretend Play',\n",
       " 'Role Playing',\n",
       " 'Role Playing;Action & Adventure',\n",
       " 'Role Playing;Brain Games',\n",
       " 'Role Playing;Pretend Play',\n",
       " 'Shopping',\n",
       " 'Simulation',\n",
       " 'Simulation;Action & Adventure',\n",
       " 'Simulation;Education',\n",
       " 'Simulation;Pretend Play',\n",
       " 'Social',\n",
       " 'Sports',\n",
       " 'Sports;Action & Adventure',\n",
       " 'Strategy',\n",
       " 'Strategy;Action & Adventure',\n",
       " 'Strategy;Creativity',\n",
       " 'Strategy;Education',\n",
       " 'Tools',\n",
       " 'Tools;Education',\n",
       " 'Travel & Local',\n",
       " 'Travel & Local;Action & Adventure',\n",
       " 'Trivia',\n",
       " 'Video Players & Editors',\n",
       " 'Video Players & Editors;Creativity',\n",
       " 'Video Players & Editors;Music & Video',\n",
       " 'Weather',\n",
       " 'Word']"
      ]
     },
     "execution_count": 315,
     "metadata": {},
     "output_type": "execute_result"
    }
   ],
   "source": [
    "list(genre_name_mapping.keys())"
   ]
  },
  {
   "cell_type": "code",
   "execution_count": 316,
   "id": "c9854fec",
   "metadata": {
    "scrolled": true
   },
   "outputs": [
    {
     "name": "stdout",
     "output_type": "stream",
     "text": [
      "<class 'pandas.core.frame.DataFrame'>\n",
      "Int64Index: 6552 entries, 6816 to 8189\n",
      "Data columns (total 41 columns):\n",
      " #   Column                   Non-Null Count  Dtype  \n",
      "---  ------                   --------------  -----  \n",
      " 0   Reviews                  6552 non-null   object \n",
      " 1   Size                     6552 non-null   float64\n",
      " 2   Installs                 6552 non-null   object \n",
      " 3   Type                     6552 non-null   int64  \n",
      " 4   Price                    6552 non-null   object \n",
      " 5   Content Rating           6552 non-null   int64  \n",
      " 6   Genres                   6552 non-null   int64  \n",
      " 7   cat_ART_AND_DESIGN       6552 non-null   uint8  \n",
      " 8   cat_AUTO_AND_VEHICLES    6552 non-null   uint8  \n",
      " 9   cat_BEAUTY               6552 non-null   uint8  \n",
      " 10  cat_BOOKS_AND_REFERENCE  6552 non-null   uint8  \n",
      " 11  cat_BUSINESS             6552 non-null   uint8  \n",
      " 12  cat_COMICS               6552 non-null   uint8  \n",
      " 13  cat_COMMUNICATION        6552 non-null   uint8  \n",
      " 14  cat_DATING               6552 non-null   uint8  \n",
      " 15  cat_EDUCATION            6552 non-null   uint8  \n",
      " 16  cat_ENTERTAINMENT        6552 non-null   uint8  \n",
      " 17  cat_EVENTS               6552 non-null   uint8  \n",
      " 18  cat_FAMILY               6552 non-null   uint8  \n",
      " 19  cat_FINANCE              6552 non-null   uint8  \n",
      " 20  cat_FOOD_AND_DRINK       6552 non-null   uint8  \n",
      " 21  cat_GAME                 6552 non-null   uint8  \n",
      " 22  cat_HEALTH_AND_FITNESS   6552 non-null   uint8  \n",
      " 23  cat_HOUSE_AND_HOME       6552 non-null   uint8  \n",
      " 24  cat_LIBRARIES_AND_DEMO   6552 non-null   uint8  \n",
      " 25  cat_LIFESTYLE            6552 non-null   uint8  \n",
      " 26  cat_MAPS_AND_NAVIGATION  6552 non-null   uint8  \n",
      " 27  cat_MEDICAL              6552 non-null   uint8  \n",
      " 28  cat_NEWS_AND_MAGAZINES   6552 non-null   uint8  \n",
      " 29  cat_PARENTING            6552 non-null   uint8  \n",
      " 30  cat_PERSONALIZATION      6552 non-null   uint8  \n",
      " 31  cat_PHOTOGRAPHY          6552 non-null   uint8  \n",
      " 32  cat_PRODUCTIVITY         6552 non-null   uint8  \n",
      " 33  cat_SHOPPING             6552 non-null   uint8  \n",
      " 34  cat_SOCIAL               6552 non-null   uint8  \n",
      " 35  cat_SPORTS               6552 non-null   uint8  \n",
      " 36  cat_TOOLS                6552 non-null   uint8  \n",
      " 37  cat_TRAVEL_AND_LOCAL     6552 non-null   uint8  \n",
      " 38  cat_VIDEO_PLAYERS        6552 non-null   uint8  \n",
      " 39  cat_WEATHER              6552 non-null   uint8  \n",
      " 40  lastupdate               6552 non-null   int64  \n",
      "dtypes: float64(1), int64(4), object(3), uint8(33)\n",
      "memory usage: 671.8+ KB\n"
     ]
    }
   ],
   "source": [
    "x_train.info()"
   ]
  },
  {
   "cell_type": "code",
   "execution_count": 317,
   "id": "46673f5b",
   "metadata": {},
   "outputs": [],
   "source": [
    "ls=(df['Category'].unique().tolist())"
   ]
  },
  {
   "cell_type": "code",
   "execution_count": 318,
   "id": "640f20cd",
   "metadata": {},
   "outputs": [
    {
     "data": {
      "text/plain": [
       "0"
      ]
     },
     "execution_count": 318,
     "metadata": {},
     "output_type": "execute_result"
    }
   ],
   "source": [
    "ls[1]"
   ]
  },
  {
   "cell_type": "code",
   "execution_count": 319,
   "id": "568b2a8e",
   "metadata": {},
   "outputs": [
    {
     "data": {
      "text/plain": [
       "0"
      ]
     },
     "execution_count": 319,
     "metadata": {},
     "output_type": "execute_result"
    }
   ],
   "source": [
    "ls.pop(1)"
   ]
  },
  {
   "cell_type": "code",
   "execution_count": 320,
   "id": "cc1ec2cf",
   "metadata": {},
   "outputs": [],
   "source": [
    "ls=sorted(ls)"
   ]
  },
  {
   "cell_type": "code",
   "execution_count": null,
   "id": "5f134951",
   "metadata": {},
   "outputs": [],
   "source": []
  },
  {
   "cell_type": "code",
   "execution_count": 321,
   "id": "f65d1fd6",
   "metadata": {
    "scrolled": true
   },
   "outputs": [
    {
     "data": {
      "text/plain": [
       "['ART_AND_DESIGN',\n",
       " 'AUTO_AND_VEHICLES',\n",
       " 'BEAUTY',\n",
       " 'BOOKS_AND_REFERENCE',\n",
       " 'BUSINESS',\n",
       " 'COMICS',\n",
       " 'COMMUNICATION',\n",
       " 'DATING',\n",
       " 'EDUCATION',\n",
       " 'ENTERTAINMENT',\n",
       " 'EVENTS',\n",
       " 'FAMILY',\n",
       " 'FINANCE',\n",
       " 'FOOD_AND_DRINK',\n",
       " 'GAME',\n",
       " 'HEALTH_AND_FITNESS',\n",
       " 'HOUSE_AND_HOME',\n",
       " 'LIBRARIES_AND_DEMO',\n",
       " 'LIFESTYLE',\n",
       " 'MAPS_AND_NAVIGATION',\n",
       " 'MEDICAL',\n",
       " 'NEWS_AND_MAGAZINES',\n",
       " 'PARENTING',\n",
       " 'PERSONALIZATION',\n",
       " 'PHOTOGRAPHY',\n",
       " 'PRODUCTIVITY',\n",
       " 'SHOPPING',\n",
       " 'SOCIAL',\n",
       " 'SPORTS',\n",
       " 'TOOLS',\n",
       " 'TRAVEL_AND_LOCAL',\n",
       " 'VIDEO_PLAYERS',\n",
       " 'WEATHER']"
      ]
     },
     "execution_count": 321,
     "metadata": {},
     "output_type": "execute_result"
    }
   ],
   "source": [
    "ls"
   ]
  },
  {
   "cell_type": "code",
   "execution_count": 322,
   "id": "ae0f8115",
   "metadata": {},
   "outputs": [
    {
     "name": "stdout",
     "output_type": "stream",
     "text": [
      "<class 'pandas.core.frame.DataFrame'>\n",
      "Int64Index: 6552 entries, 6816 to 8189\n",
      "Data columns (total 41 columns):\n",
      " #   Column                   Non-Null Count  Dtype  \n",
      "---  ------                   --------------  -----  \n",
      " 0   Reviews                  6552 non-null   object \n",
      " 1   Size                     6552 non-null   float64\n",
      " 2   Installs                 6552 non-null   object \n",
      " 3   Type                     6552 non-null   int64  \n",
      " 4   Price                    6552 non-null   object \n",
      " 5   Content Rating           6552 non-null   int64  \n",
      " 6   Genres                   6552 non-null   int64  \n",
      " 7   cat_ART_AND_DESIGN       6552 non-null   uint8  \n",
      " 8   cat_AUTO_AND_VEHICLES    6552 non-null   uint8  \n",
      " 9   cat_BEAUTY               6552 non-null   uint8  \n",
      " 10  cat_BOOKS_AND_REFERENCE  6552 non-null   uint8  \n",
      " 11  cat_BUSINESS             6552 non-null   uint8  \n",
      " 12  cat_COMICS               6552 non-null   uint8  \n",
      " 13  cat_COMMUNICATION        6552 non-null   uint8  \n",
      " 14  cat_DATING               6552 non-null   uint8  \n",
      " 15  cat_EDUCATION            6552 non-null   uint8  \n",
      " 16  cat_ENTERTAINMENT        6552 non-null   uint8  \n",
      " 17  cat_EVENTS               6552 non-null   uint8  \n",
      " 18  cat_FAMILY               6552 non-null   uint8  \n",
      " 19  cat_FINANCE              6552 non-null   uint8  \n",
      " 20  cat_FOOD_AND_DRINK       6552 non-null   uint8  \n",
      " 21  cat_GAME                 6552 non-null   uint8  \n",
      " 22  cat_HEALTH_AND_FITNESS   6552 non-null   uint8  \n",
      " 23  cat_HOUSE_AND_HOME       6552 non-null   uint8  \n",
      " 24  cat_LIBRARIES_AND_DEMO   6552 non-null   uint8  \n",
      " 25  cat_LIFESTYLE            6552 non-null   uint8  \n",
      " 26  cat_MAPS_AND_NAVIGATION  6552 non-null   uint8  \n",
      " 27  cat_MEDICAL              6552 non-null   uint8  \n",
      " 28  cat_NEWS_AND_MAGAZINES   6552 non-null   uint8  \n",
      " 29  cat_PARENTING            6552 non-null   uint8  \n",
      " 30  cat_PERSONALIZATION      6552 non-null   uint8  \n",
      " 31  cat_PHOTOGRAPHY          6552 non-null   uint8  \n",
      " 32  cat_PRODUCTIVITY         6552 non-null   uint8  \n",
      " 33  cat_SHOPPING             6552 non-null   uint8  \n",
      " 34  cat_SOCIAL               6552 non-null   uint8  \n",
      " 35  cat_SPORTS               6552 non-null   uint8  \n",
      " 36  cat_TOOLS                6552 non-null   uint8  \n",
      " 37  cat_TRAVEL_AND_LOCAL     6552 non-null   uint8  \n",
      " 38  cat_VIDEO_PLAYERS        6552 non-null   uint8  \n",
      " 39  cat_WEATHER              6552 non-null   uint8  \n",
      " 40  lastupdate               6552 non-null   int64  \n",
      "dtypes: float64(1), int64(4), object(3), uint8(33)\n",
      "memory usage: 671.8+ KB\n"
     ]
    }
   ],
   "source": [
    "x_train.info()"
   ]
  },
  {
   "cell_type": "code",
   "execution_count": 323,
   "id": "35ee835f",
   "metadata": {},
   "outputs": [
    {
     "data": {
      "text/plain": [
       "['Adults only 18+',\n",
       " 'Everyone',\n",
       " 'Everyone 10+',\n",
       " 'Mature 17+',\n",
       " 'Teen',\n",
       " 'Unrated']"
      ]
     },
     "execution_count": 323,
     "metadata": {},
     "output_type": "execute_result"
    }
   ],
   "source": [
    "list(content_rate_mapping.keys())"
   ]
  },
  {
   "cell_type": "code",
   "execution_count": 324,
   "id": "780973bf",
   "metadata": {},
   "outputs": [],
   "source": [
    "df['check']=(df['new']-df['new'].max()).dt.days"
   ]
  },
  {
   "cell_type": "code",
   "execution_count": 325,
   "id": "0d5a0154",
   "metadata": {},
   "outputs": [
    {
     "data": {
      "text/plain": [
       "Timedelta('-17751 days +00:00:00')"
      ]
     },
     "execution_count": 325,
     "metadata": {},
     "output_type": "execute_result"
    }
   ],
   "source": [
    "df['new'].min()-df['new'].max()"
   ]
  },
  {
   "cell_type": "code",
   "execution_count": 326,
   "id": "646c886d",
   "metadata": {},
   "outputs": [
    {
     "data": {
      "text/plain": [
       "-27"
      ]
     },
     "execution_count": 326,
     "metadata": {},
     "output_type": "execute_result"
    }
   ],
   "source": [
    "df['lastupdate'].loc[30]"
   ]
  },
  {
   "cell_type": "code",
   "execution_count": 327,
   "id": "80681a1f",
   "metadata": {},
   "outputs": [
    {
     "data": {
      "text/plain": [
       "Timestamp('2018-08-08 00:00:00')"
      ]
     },
     "execution_count": 327,
     "metadata": {},
     "output_type": "execute_result"
    }
   ],
   "source": [
    "df['new'].max()"
   ]
  },
  {
   "cell_type": "code",
   "execution_count": 328,
   "id": "dadce328",
   "metadata": {},
   "outputs": [
    {
     "name": "stdout",
     "output_type": "stream",
     "text": [
      "<class 'pandas.core.frame.DataFrame'>\n",
      "Int64Index: 2808 entries, 5560 to 2736\n",
      "Data columns (total 41 columns):\n",
      " #   Column                   Non-Null Count  Dtype  \n",
      "---  ------                   --------------  -----  \n",
      " 0   Reviews                  2808 non-null   object \n",
      " 1   Size                     2808 non-null   float64\n",
      " 2   Installs                 2808 non-null   object \n",
      " 3   Type                     2808 non-null   int64  \n",
      " 4   Price                    2808 non-null   object \n",
      " 5   Content Rating           2808 non-null   int64  \n",
      " 6   Genres                   2808 non-null   int64  \n",
      " 7   cat_ART_AND_DESIGN       2808 non-null   uint8  \n",
      " 8   cat_AUTO_AND_VEHICLES    2808 non-null   uint8  \n",
      " 9   cat_BEAUTY               2808 non-null   uint8  \n",
      " 10  cat_BOOKS_AND_REFERENCE  2808 non-null   uint8  \n",
      " 11  cat_BUSINESS             2808 non-null   uint8  \n",
      " 12  cat_COMICS               2808 non-null   uint8  \n",
      " 13  cat_COMMUNICATION        2808 non-null   uint8  \n",
      " 14  cat_DATING               2808 non-null   uint8  \n",
      " 15  cat_EDUCATION            2808 non-null   uint8  \n",
      " 16  cat_ENTERTAINMENT        2808 non-null   uint8  \n",
      " 17  cat_EVENTS               2808 non-null   uint8  \n",
      " 18  cat_FAMILY               2808 non-null   uint8  \n",
      " 19  cat_FINANCE              2808 non-null   uint8  \n",
      " 20  cat_FOOD_AND_DRINK       2808 non-null   uint8  \n",
      " 21  cat_GAME                 2808 non-null   uint8  \n",
      " 22  cat_HEALTH_AND_FITNESS   2808 non-null   uint8  \n",
      " 23  cat_HOUSE_AND_HOME       2808 non-null   uint8  \n",
      " 24  cat_LIBRARIES_AND_DEMO   2808 non-null   uint8  \n",
      " 25  cat_LIFESTYLE            2808 non-null   uint8  \n",
      " 26  cat_MAPS_AND_NAVIGATION  2808 non-null   uint8  \n",
      " 27  cat_MEDICAL              2808 non-null   uint8  \n",
      " 28  cat_NEWS_AND_MAGAZINES   2808 non-null   uint8  \n",
      " 29  cat_PARENTING            2808 non-null   uint8  \n",
      " 30  cat_PERSONALIZATION      2808 non-null   uint8  \n",
      " 31  cat_PHOTOGRAPHY          2808 non-null   uint8  \n",
      " 32  cat_PRODUCTIVITY         2808 non-null   uint8  \n",
      " 33  cat_SHOPPING             2808 non-null   uint8  \n",
      " 34  cat_SOCIAL               2808 non-null   uint8  \n",
      " 35  cat_SPORTS               2808 non-null   uint8  \n",
      " 36  cat_TOOLS                2808 non-null   uint8  \n",
      " 37  cat_TRAVEL_AND_LOCAL     2808 non-null   uint8  \n",
      " 38  cat_VIDEO_PLAYERS        2808 non-null   uint8  \n",
      " 39  cat_WEATHER              2808 non-null   uint8  \n",
      " 40  lastupdate               2808 non-null   int64  \n",
      "dtypes: float64(1), int64(4), object(3), uint8(33)\n",
      "memory usage: 287.9+ KB\n"
     ]
    }
   ],
   "source": [
    "x_test.info()"
   ]
  },
  {
   "cell_type": "code",
   "execution_count": 330,
   "id": "9d0721ce",
   "metadata": {},
   "outputs": [
    {
     "data": {
      "text/plain": [
       "array([0, 1])"
      ]
     },
     "execution_count": 330,
     "metadata": {},
     "output_type": "execute_result"
    }
   ],
   "source": [
    "x_test['Type'].unique()"
   ]
  },
  {
   "cell_type": "code",
   "execution_count": 331,
   "id": "b763cca8",
   "metadata": {},
   "outputs": [],
   "source": [
    "with open('linear_model','wb') as files:\n",
    "    pickle.dump(lr,files)"
   ]
  },
  {
   "cell_type": "code",
   "execution_count": 1,
   "id": "626cce0e",
   "metadata": {},
   "outputs": [
    {
     "name": "stdout",
     "output_type": "stream",
     "text": [
      "Hello world \n"
     ]
    }
   ],
   "source": []
  },
  {
   "cell_type": "code",
   "execution_count": null,
   "id": "2fde1f40",
   "metadata": {},
   "outputs": [],
   "source": []
  }
 ],
 "metadata": {
  "kernelspec": {
   "display_name": "Python 3 (ipykernel)",
   "language": "python",
   "name": "python3"
  },
  "language_info": {
   "codemirror_mode": {
    "name": "ipython",
    "version": 3
   },
   "file_extension": ".py",
   "mimetype": "text/x-python",
   "name": "python",
   "nbconvert_exporter": "python",
   "pygments_lexer": "ipython3",
   "version": "3.9.7"
  }
 },
 "nbformat": 4,
 "nbformat_minor": 5
}
